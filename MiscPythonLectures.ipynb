{
  "cells": [
    {
      "cell_type": "markdown",
      "metadata": {
        "id": "view-in-github",
        "colab_type": "text"
      },
      "source": [
        "<a href=\"https://colab.research.google.com/github/azharivs/python-colabs/blob/main/MiscPythonLectures.ipynb\" target=\"_parent\"><img src=\"https://colab.research.google.com/assets/colab-badge.svg\" alt=\"Open In Colab\"/></a>"
      ]
    },
    {
      "cell_type": "code",
      "execution_count": null,
      "metadata": {
        "colab": {
          "base_uri": "https://localhost:8080/"
        },
        "id": "8ac1hxTedh13",
        "outputId": "1972c1fb-d64c-4e62-e05b-e52fc76baaaf"
      },
      "outputs": [
        {
          "name": "stdout",
          "output_type": "stream",
          "text": [
            "Enter first number: 4\n",
            "Enter second number: 12\n",
            "4 + 12 = 16\n"
          ]
        }
      ],
      "source": [
        "a=input(\"Enter first number: \")\n",
        "b=input(\"Enter second number: \")\n",
        "c = int(a)+int(b)\n",
        "print(a, '+', b, '=', c)"
      ]
    },
    {
      "cell_type": "code",
      "execution_count": null,
      "metadata": {
        "colab": {
          "base_uri": "https://localhost:8080/",
          "height": 544
        },
        "id": "nywXjIzpesWi",
        "outputId": "ec03cb96-0c91-4593-a4a5-461b1dde4d19"
      },
      "outputs": [
        {
          "name": "stdout",
          "output_type": "stream",
          "text": [
            "Enter your guess 0..10:5\n",
            "Too large\n",
            "Enter your guess 0..10:2\n",
            "Too small\n",
            "Enter your guess 0..10:3\n",
            "Too small\n",
            "Enter your guess 0..10:4\n",
            "You won!\n",
            "Too large\n"
          ]
        },
        {
          "ename": "KeyboardInterrupt",
          "evalue": "Interrupted by user",
          "output_type": "error",
          "traceback": [
            "\u001b[0;31m---------------------------------------------------------------------------\u001b[0m",
            "\u001b[0;31mKeyboardInterrupt\u001b[0m                         Traceback (most recent call last)",
            "\u001b[0;32m<ipython-input-2-7cab3fa35463>\u001b[0m in \u001b[0;36m<cell line: 50>\u001b[0;34m()\u001b[0m\n\u001b[1;32m     48\u001b[0m   \u001b[0mprint\u001b[0m\u001b[0;34m(\u001b[0m\u001b[0;34m'Too large'\u001b[0m\u001b[0;34m)\u001b[0m\u001b[0;34m\u001b[0m\u001b[0;34m\u001b[0m\u001b[0m\n\u001b[1;32m     49\u001b[0m \u001b[0;34m\u001b[0m\u001b[0m\n\u001b[0;32m---> 50\u001b[0;31m \u001b[0mguess\u001b[0m \u001b[0;34m=\u001b[0m \u001b[0mint\u001b[0m\u001b[0;34m(\u001b[0m\u001b[0minput\u001b[0m\u001b[0;34m(\u001b[0m\u001b[0;34m'Enter your guess 0..10:'\u001b[0m\u001b[0;34m)\u001b[0m\u001b[0;34m)\u001b[0m\u001b[0;34m\u001b[0m\u001b[0;34m\u001b[0m\u001b[0m\n\u001b[0m\u001b[1;32m     51\u001b[0m \u001b[0;34m\u001b[0m\u001b[0m\n\u001b[1;32m     52\u001b[0m \u001b[0;32mif\u001b[0m \u001b[0mguess\u001b[0m \u001b[0;34m==\u001b[0m \u001b[0mchosen\u001b[0m\u001b[0;34m:\u001b[0m\u001b[0;34m\u001b[0m\u001b[0;34m\u001b[0m\u001b[0m\n",
            "\u001b[0;32m/usr/local/lib/python3.10/dist-packages/ipykernel/kernelbase.py\u001b[0m in \u001b[0;36mraw_input\u001b[0;34m(self, prompt)\u001b[0m\n\u001b[1;32m    849\u001b[0m                 \u001b[0;34m\"raw_input was called, but this frontend does not support input requests.\"\u001b[0m\u001b[0;34m\u001b[0m\u001b[0;34m\u001b[0m\u001b[0m\n\u001b[1;32m    850\u001b[0m             )\n\u001b[0;32m--> 851\u001b[0;31m         return self._input_request(str(prompt),\n\u001b[0m\u001b[1;32m    852\u001b[0m             \u001b[0mself\u001b[0m\u001b[0;34m.\u001b[0m\u001b[0m_parent_ident\u001b[0m\u001b[0;34m,\u001b[0m\u001b[0;34m\u001b[0m\u001b[0;34m\u001b[0m\u001b[0m\n\u001b[1;32m    853\u001b[0m             \u001b[0mself\u001b[0m\u001b[0;34m.\u001b[0m\u001b[0m_parent_header\u001b[0m\u001b[0;34m,\u001b[0m\u001b[0;34m\u001b[0m\u001b[0;34m\u001b[0m\u001b[0m\n",
            "\u001b[0;32m/usr/local/lib/python3.10/dist-packages/ipykernel/kernelbase.py\u001b[0m in \u001b[0;36m_input_request\u001b[0;34m(self, prompt, ident, parent, password)\u001b[0m\n\u001b[1;32m    893\u001b[0m             \u001b[0;32mexcept\u001b[0m \u001b[0mKeyboardInterrupt\u001b[0m\u001b[0;34m:\u001b[0m\u001b[0;34m\u001b[0m\u001b[0;34m\u001b[0m\u001b[0m\n\u001b[1;32m    894\u001b[0m                 \u001b[0;31m# re-raise KeyboardInterrupt, to truncate traceback\u001b[0m\u001b[0;34m\u001b[0m\u001b[0;34m\u001b[0m\u001b[0m\n\u001b[0;32m--> 895\u001b[0;31m                 \u001b[0;32mraise\u001b[0m \u001b[0mKeyboardInterrupt\u001b[0m\u001b[0;34m(\u001b[0m\u001b[0;34m\"Interrupted by user\"\u001b[0m\u001b[0;34m)\u001b[0m \u001b[0;32mfrom\u001b[0m \u001b[0;32mNone\u001b[0m\u001b[0;34m\u001b[0m\u001b[0;34m\u001b[0m\u001b[0m\n\u001b[0m\u001b[1;32m    896\u001b[0m             \u001b[0;32mexcept\u001b[0m \u001b[0mException\u001b[0m \u001b[0;32mas\u001b[0m \u001b[0me\u001b[0m\u001b[0;34m:\u001b[0m\u001b[0;34m\u001b[0m\u001b[0;34m\u001b[0m\u001b[0m\n\u001b[1;32m    897\u001b[0m                 \u001b[0mself\u001b[0m\u001b[0;34m.\u001b[0m\u001b[0mlog\u001b[0m\u001b[0;34m.\u001b[0m\u001b[0mwarning\u001b[0m\u001b[0;34m(\u001b[0m\u001b[0;34m\"Invalid Message:\"\u001b[0m\u001b[0;34m,\u001b[0m \u001b[0mexc_info\u001b[0m\u001b[0;34m=\u001b[0m\u001b[0;32mTrue\u001b[0m\u001b[0;34m)\u001b[0m\u001b[0;34m\u001b[0m\u001b[0;34m\u001b[0m\u001b[0m\n",
            "\u001b[0;31mKeyboardInterrupt\u001b[0m: Interrupted by user"
          ]
        }
      ],
      "source": [
        "import random\n",
        "\n",
        "chosen = random.randrange(0,10)\n",
        "#print(chosen)\n",
        "\n",
        "guess = int(input('Enter your guess 0..10:'))\n",
        "\n",
        "if guess == chosen:\n",
        "  print('You won!')\n",
        "  exit()\n",
        "\n",
        "if guess < chosen:\n",
        "  print('Too small')\n",
        "else:\n",
        "  print('Too large')\n",
        "\n",
        "guess = int(input('Enter your guess 0..10:'))\n",
        "\n",
        "if guess == chosen:\n",
        "  print('You won!')\n",
        "  exit()\n",
        "\n",
        "if guess < chosen:\n",
        "  print('Too small')\n",
        "else:\n",
        "  print('Too large')\n",
        "\n",
        "guess = int(input('Enter your guess 0..10:'))\n",
        "\n",
        "if guess == chosen:\n",
        "  print('You won!')\n",
        "  exit()\n",
        "\n",
        "if guess < chosen:\n",
        "  print('Too small')\n",
        "else:\n",
        "  print('Too large')\n",
        "\n",
        "guess = int(input('Enter your guess 0..10:'))\n",
        "\n",
        "if guess == chosen:\n",
        "  print('You won!')\n",
        "  exit()\n",
        "\n",
        "if guess < chosen:\n",
        "  print('Too small')\n",
        "else:\n",
        "  print('Too large')\n",
        "\n",
        "guess = int(input('Enter your guess 0..10:'))\n",
        "\n",
        "if guess == chosen:\n",
        "  print('You won!')\n",
        "  exit()\n",
        "\n",
        "if guess < chosen:\n",
        "  print('Too small')\n",
        "else:\n",
        "  print('Too large')\n"
      ]
    },
    {
      "cell_type": "code",
      "execution_count": null,
      "metadata": {
        "colab": {
          "base_uri": "https://localhost:8080/"
        },
        "id": "gEOhdpKQ1of8",
        "outputId": "5a27fe7d-f1bd-4f76-c12e-bad57434165a"
      },
      "outputs": [
        {
          "name": "stdout",
          "output_type": "stream",
          "text": [
            "Please enter your guess: 50\n",
            "too low\n",
            "Please enter your guess: 75\n",
            "too high\n",
            "Please enter your guess: 62\n",
            "too low\n",
            "Please enter your guess: 68\n",
            "too low\n",
            "Please enter your guess: 71\n",
            "too high\n",
            "Please enter your guess: 69\n",
            "You won in  6 attempts\n"
          ]
        }
      ],
      "source": [
        "import random\n",
        "chosen = random.randrange(0,100)\n",
        "\n",
        "attempts = 0\n",
        "while True:\n",
        "  guess = int(input('Please enter your guess: '))\n",
        "  attempts += 1\n",
        "  if guess == chosen:\n",
        "    break\n",
        "  elif guess < chosen:\n",
        "    print('too low')\n",
        "  else:\n",
        "    print('too high')\n",
        "\n",
        "print('You won in ', attempts, 'attempts')\n"
      ]
    },
    {
      "cell_type": "code",
      "execution_count": null,
      "metadata": {
        "colab": {
          "base_uri": "https://localhost:8080/"
        },
        "id": "AX-HSfpg4pLg",
        "outputId": "e3584a45-1ff5-409a-c7d8-a739e9e6b5fe"
      },
      "outputs": [
        {
          "name": "stdout",
          "output_type": "stream",
          "text": [
            "helloworld\n",
            "I, ,a,m, ,a, ,s,t,u,d,e,n,t,"
          ]
        }
      ],
      "source": [
        "print('hello', end='')\n",
        "print('world')\n",
        "s = \"I am a student\"\n",
        "for c in s:\n",
        "  print(c,end=',')"
      ]
    },
    {
      "cell_type": "code",
      "execution_count": null,
      "metadata": {
        "colab": {
          "base_uri": "https://localhost:8080/"
        },
        "id": "mUPL-gykWX9z",
        "outputId": "4952bd60-1127-49ea-d97f-262d93060855"
      },
      "outputs": [
        {
          "name": "stdout",
          "output_type": "stream",
          "text": [
            "22\n"
          ]
        }
      ],
      "source": [
        "import random\n",
        "\n",
        "x = random.randrange(0,1000)\n",
        "\n",
        "print(x)"
      ]
    },
    {
      "cell_type": "code",
      "execution_count": null,
      "metadata": {
        "colab": {
          "base_uri": "https://localhost:8080/"
        },
        "id": "OBt68cBNW9-P",
        "outputId": "e670207e-eb91-462f-9e75-b7f5a6ef9aa9"
      },
      "outputs": [
        {
          "name": "stdout",
          "output_type": "stream",
          "text": [
            "Ë÷ï,è\rqH]V\u000fÙm~öu|/×ý@Q>k¢¼6½ºø~\u001cZÓ\bö\rÞsêTlEV§Çl>$2\u0015d$>ôªæp8\u0010\u0004âZã0/fA*ÞÚÛîÐGÛ»hþ@kü&\u0001Õ6+æê\r$®=\u0001´iTëP~êµû~>ê°«¾9)\u0002ï¤!3±¡<?Åõ\u0014\u001bh.&'S\\¼ÙWG ¿E]?Zf!ê«»-g>¬\u000fn[¤ÐÇ9&\"ð½·&\u0012\u001e!Et6\u0016%¾\fÉô¼ÒAF½/»=ÜTéFµ££\u0019TÁ\u0019¯\"¦w'%¢\u0003éïO)C]%),¥ô²®\"q í:o¦u´éæsGÁ»pËñûPÏÃ2°øðPç¾lú\u0012äk<aìUBâ\u0019\u001a\u000b<{+/ôs¨vã4KêªDu°CSãµ\u000bY\bzâñZ»]\"ÚÄÁÑÝÐîÅ³!«vâ%\u0001Å^3¿a\"/A\u001b_@C{fèCä\t±ú&ãJÔ\u00056\u0014íK ñcðªG:¯½\u001ab×ó\u001d\u0010\u0019§ÁÅ\\n¨ûD÷<ÊÒA4*#\u0003,5v(¡´lm#À\u001fo4+\u0015\u0014º<ç¸t=\r¹Sß<\bO¤5cô>^\u0016?;µ\u001dr$m®\u0019_º>C±Aa¹\rh\\è9/15¹nîM×¾°¢2Y³\u001aOïÉ\f\u0019R³¤£Â-ass{À0]9Û§ú¸I\u0013,É»OÙ\u001bÛë¶È\u001fË÷-«kÇ\u001e\u0016\u0010¯\u0002C>d;qj-ãðNÑp¢ñ\u0002\u001f\u0006é`7-!\u0003Ñ\u001bNîü\u0004@2\u0011qç\u000eU-y\t18No¸ôøêÝEv;¬Vw\\tt¯À¦,\u0005²Õ»ßIh\u000e{9NGO¢î\u0010Ê8y«·RF®\u0017mªuóv¼(úÈn\u0018çÏ\u0013âÜ\u0001ðp#m½åZþReÂ{9Qç­\u001f\u0004ä'ñ²¼|&\u0003ÔoËù»\u0012[jöÙTÖ{ vjøeóS$µ,Ãk2´\u0018Ò\f\u000eÖð/Àäø}9Èc\n",
            "ZVü³\u0012©\u001ewÝ¾·hcà=0%`ÏÝ/fä.Eà;GÝxï\u0006·ÒøH©V¦~úÓÐJIq\bÄ\f\u000f\u0005rÊ\t2?É¬ÈØ\u001aÝ+\rÔØ:ÞêúÁ¦6×T\bËXZ{öFä|$d\u0002\u0012Ñýü\u0005îTú\u0003:_0ýÑÈ+Bl:\u0013Öò qò*ÅêLí.úCðW% Öþ*EAwÂûãÒÖd'Õ:?oò}\"ë\u001bÃy/tå\u0007\u001fgsðûI³@»¥ø`:\u001d9²Ñ3ZÎ\u0017Þx± %¾bÉ©¥¡~r\u0017Då³.\u0002¤3Z\u001655$\u0006o\n"
          ]
        }
      ],
      "source": [
        "import random\n",
        "\n",
        "s = ''\n",
        "for i in range(1,1000):\n",
        "  ch = random.randrange(1,255)\n",
        "  s = s + chr(ch)\n",
        "\n",
        "print(s)"
      ]
    },
    {
      "cell_type": "code",
      "execution_count": null,
      "metadata": {
        "colab": {
          "base_uri": "https://localhost:8080/",
          "height": 35
        },
        "id": "WU_r-_plZBS3",
        "outputId": "0d2604f9-03f3-4a59-a740-af61fe5af353"
      },
      "outputs": [
        {
          "data": {
            "application/vnd.google.colaboratory.intrinsic+json": {
              "type": "string"
            },
            "text/plain": [
              "'helloali'"
            ]
          },
          "execution_count": 34,
          "metadata": {},
          "output_type": "execute_result"
        }
      ],
      "source": [
        "\"hello\" + \"ali\""
      ]
    },
    {
      "cell_type": "code",
      "execution_count": null,
      "metadata": {
        "colab": {
          "base_uri": "https://localhost:8080/"
        },
        "id": "9PuU5gVagYMN",
        "outputId": "6bc86065-a3a2-48c0-ac09-57c81d736567"
      },
      "outputs": [
        {
          "name": "stdout",
          "output_type": "stream",
          "text": [
            "4.0\n",
            "<class 'float'>\n"
          ]
        }
      ],
      "source": [
        "x = int(2.9) + float(2)\n",
        "print(x)\n",
        "print(type(x))"
      ]
    },
    {
      "cell_type": "code",
      "execution_count": null,
      "metadata": {
        "colab": {
          "base_uri": "https://localhost:8080/"
        },
        "id": "noq7-_m7iA6B",
        "outputId": "d2b91ccb-04ff-4c75-d5ef-93e9c51514bc"
      },
      "outputs": [
        {
          "name": "stdout",
          "output_type": "stream",
          "text": [
            "\n",
            " Hello\n",
            "this is \n",
            "me\n"
          ]
        }
      ],
      "source": [
        "a = ''\n",
        "print(a)\n",
        "\n",
        "b = ''' Hello\n",
        "this is\n",
        "me'''\n",
        "print(b)"
      ]
    },
    {
      "cell_type": "code",
      "execution_count": null,
      "metadata": {
        "colab": {
          "base_uri": "https://localhost:8080/"
        },
        "id": "iUKDkSybjD2R",
        "outputId": "32c12029-9eb6-49d8-f3b8-e88fd1eb073e"
      },
      "outputs": [
        {
          "name": "stdout",
          "output_type": "stream",
          "text": [
            "h e l l o\n",
            "<class 'list'>\n",
            "h e l l o\n",
            "<class 'str'>\n",
            "o l\n"
          ]
        }
      ],
      "source": [
        "l=['h', 'e', 'l', 'l', 'o']\n",
        "print(l[0], l[1], l[2], l[3], l[4])\n",
        "print(type(l))\n",
        "\n",
        "s = 'hello'\n",
        "print(s[0], s[1], s[2], s[3], s[4])\n",
        "print(type(s))\n",
        "\n",
        "print(s[-1], s[-2])"
      ]
    },
    {
      "cell_type": "code",
      "execution_count": null,
      "metadata": {
        "colab": {
          "base_uri": "https://localhost:8080/"
        },
        "id": "2XbjyxLtl818",
        "outputId": "a4b4cc3f-0886-4d52-eb51-77872e0c2dba"
      },
      "outputs": [
        {
          "name": "stdout",
          "output_type": "stream",
          "text": [
            "ab\\cd\n"
          ]
        }
      ],
      "source": [
        "s = 'ab\\cd'\n",
        "\n",
        "print(s)"
      ]
    },
    {
      "cell_type": "code",
      "execution_count": null,
      "metadata": {
        "colab": {
          "base_uri": "https://localhost:8080/"
        },
        "id": "8W_F6qQos2MM",
        "outputId": "83ece384-b719-49b1-c32a-1d6c443f4c70"
      },
      "outputs": [
        {
          "name": "stdout",
          "output_type": "stream",
          "text": [
            "Hello, World!\n",
            " Jello, World! \n"
          ]
        }
      ],
      "source": [
        "a = \" Hello, World! \"\n",
        "print(a.strip())\n",
        "b = a.replace('H','J')\n",
        "print(b)\n"
      ]
    },
    {
      "cell_type": "code",
      "execution_count": null,
      "metadata": {
        "colab": {
          "base_uri": "https://localhost:8080/"
        },
        "id": "_InHVqvuNHk7",
        "outputId": "fb39ab4d-48ae-408d-86a1-920d65c0e674"
      },
      "outputs": [
        {
          "name": "stdout",
          "output_type": "stream",
          "text": [
            "<class 'str'>\n",
            "True\n",
            "1\n"
          ]
        }
      ],
      "source": [
        "s = 'hello'\n",
        "print(type(s))\n",
        "print(bool(s))\n",
        "print(int(bool(s))) # f(g(x)), f() = int(), g() = bool(), x = s"
      ]
    },
    {
      "cell_type": "code",
      "execution_count": null,
      "metadata": {
        "colab": {
          "base_uri": "https://localhost:8080/"
        },
        "id": "e2naaCb0O8_T",
        "outputId": "162d11b5-223a-4ec9-e0ec-326fe091045a"
      },
      "outputs": [
        {
          "name": "stdout",
          "output_type": "stream",
          "text": [
            "'\n"
          ]
        }
      ],
      "source": [
        "s = '\\''\n",
        "print(s)"
      ]
    },
    {
      "cell_type": "code",
      "execution_count": null,
      "metadata": {
        "id": "lB-gsL23Q-c1"
      },
      "outputs": [],
      "source": [
        "x =3875683\n",
        "y = 635\n",
        "\n",
        "output = \"{} divided by {} is {} and a remainder of {}\".format(x, y, x // y, x % y)\n",
        "print(output)"
      ]
    },
    {
      "cell_type": "code",
      "execution_count": null,
      "metadata": {
        "colab": {
          "base_uri": "https://localhost:8080/"
        },
        "id": "nYjOZ9jYSHMg",
        "outputId": "9a73cfb9-30f1-49a6-81fa-038df98ead3c"
      },
      "outputs": [
        {
          "name": "stdout",
          "output_type": "stream",
          "text": [
            "False\n",
            "5\n"
          ]
        }
      ],
      "source": [
        "x = 4\n",
        "print(x == 5)\n",
        "x = 5\n",
        "print(x)\n"
      ]
    },
    {
      "cell_type": "code",
      "execution_count": null,
      "metadata": {
        "colab": {
          "base_uri": "https://localhost:8080/"
        },
        "id": "pt1zRBJjU90e",
        "outputId": "cfd60f62-5c09-4820-a016-2c1aeed5ca95"
      },
      "outputs": [
        {
          "name": "stdout",
          "output_type": "stream",
          "text": [
            "20\n",
            "0b10 2.0\n"
          ]
        }
      ],
      "source": [
        "x = 0b10100\n",
        "y = 0b1010\n",
        "print(x)\n",
        "# print(y)\n",
        "z = x >> 3\n",
        "print(bin(z), float(z))"
      ]
    },
    {
      "cell_type": "code",
      "execution_count": null,
      "metadata": {
        "id": "IYVWvC57jezw"
      },
      "outputs": [],
      "source": [
        "l = [\"apple\", \"orange\"]\n",
        "x = 0\n",
        "r = l and (x+6)\n",
        "if (x+6):\n",
        "  print('yes')\n",
        "if (x=5):\n",
        "  print('no')"
      ]
    },
    {
      "cell_type": "code",
      "execution_count": null,
      "metadata": {
        "colab": {
          "base_uri": "https://localhost:8080/"
        },
        "id": "ZXMzL-aomekP",
        "outputId": "b01d7827-93f2-4c86-d062-4c15d8b0c5f4"
      },
      "outputs": [
        {
          "name": "stdout",
          "output_type": "stream",
          "text": [
            "Enter your age: 5\n",
            "You are a primary school student\n",
            "You are a kidergarten child.\n",
            "You are a high school student\n"
          ]
        }
      ],
      "source": [
        "age = input('Enter your age: ')\n",
        "age = int(age)\n",
        "\n",
        "if age <= 0:\n",
        "  print('Invalid age! Should be positive number.')\n",
        "elif age < 6:\n",
        "  print('You are a kidergarten child.')\n",
        "elif age <12:\n",
        "  print('You are a primary school student')\n",
        "elif age <18:\n",
        "  print('You are a high school student')\n",
        "else:\n",
        "  print('You are an adult.')\n"
      ]
    },
    {
      "cell_type": "code",
      "execution_count": null,
      "metadata": {
        "id": "oSmPxIY2XdYI"
      },
      "outputs": [],
      "source": []
    },
    {
      "cell_type": "code",
      "execution_count": null,
      "metadata": {
        "id": "XMwGnIC7t6Td"
      },
      "outputs": [],
      "source": [
        "age = input('Enter your age: ')\n",
        "age = int(age)\n",
        "\n",
        "if age <= 0:\n",
        "  print('Invalid age! Should be positive number.')\n",
        "if age > 0 and age < 6:\n",
        "  print('You are a kidergarten child.')\n",
        "if age >= 6 and age <12:\n",
        "  print('You are a primary school student')\n",
        "if age >= 12 and age <18:\n",
        "  print('You are a high school student')\n",
        "if age >= 18:\n",
        "  print('You are an adult.')"
      ]
    },
    {
      "cell_type": "code",
      "execution_count": null,
      "metadata": {
        "colab": {
          "base_uri": "https://localhost:8080/"
        },
        "id": "d-MYIowDvfzE",
        "outputId": "c33977c4-4e37-4539-9641-e4b36529f2e6"
      },
      "outputs": [
        {
          "name": "stdout",
          "output_type": "stream",
          "text": [
            "Enter your age: 5.5\n",
            "You are a ++toddler++.\n",
            "You are in senior kindergarten\n"
          ]
        }
      ],
      "source": [
        "age = input('Enter your age: ')\n",
        "age = int(float(age))\n",
        "\n",
        "if age <= 0:\n",
        "  print('Invalid age! Should be positive number.')\n",
        "elif age < 6:\n",
        "# nested if statements\n",
        "  if age > 4:\n",
        "    print('You are a ++toddler++.')\n",
        "  if age == 4:\n",
        "    print('You are in junior kindergarten')\n",
        "  elif age == 5:\n",
        "    print('You are in senior kindergarten')\n",
        "elif age <12:\n",
        "  print('You are a primary school student')\n",
        "elif age <18:\n",
        "  print('You are a high school student')\n",
        "else:\n",
        "  print('You are an adult.')"
      ]
    },
    {
      "cell_type": "markdown",
      "metadata": {
        "id": "MtfeWmpdSZtS"
      },
      "source": [
        "Take a number from input and say its odd or even:"
      ]
    },
    {
      "cell_type": "code",
      "execution_count": null,
      "metadata": {
        "colab": {
          "base_uri": "https://localhost:8080/"
        },
        "id": "zv2DnfQJRdr4",
        "outputId": "531c04d8-010d-4a29-e354-4a95a57b8a88"
      },
      "outputs": [
        {
          "name": "stdout",
          "output_type": "stream",
          "text": [
            "Please enter an integer number: -8\n",
            "-8.0  is even.\n"
          ]
        }
      ],
      "source": [
        "num = input(\"Please enter an integer number: \")\n",
        "num = float(num)\n",
        "\n",
        "if int(num) != num:\n",
        "  print('Wrong Number')\n",
        "elif num % 2 == 0:\n",
        "  print(num, \" is even.\")\n",
        "else:\n",
        "  print(num, \" is odd.\")\n"
      ]
    },
    {
      "cell_type": "code",
      "execution_count": null,
      "metadata": {
        "colab": {
          "base_uri": "https://localhost:8080/"
        },
        "id": "Fdo0LgF7Uvz8",
        "outputId": "be04ca31-5e16-422a-fdc4-265f353b7ff5"
      },
      "outputs": [
        {
          "name": "stdout",
          "output_type": "stream",
          "text": [
            "Please enter an integer number: 7.5\n",
            "7  is odd.\n"
          ]
        }
      ],
      "source": [
        "num = input(\"Please enter an integer number: \")\n",
        "num = int(float(num))\n",
        "if num % 2 == 0:\n",
        "  print(num, \" is even.\")\n",
        "else:\n",
        "  print(num, \" is odd.\")\n"
      ]
    },
    {
      "cell_type": "code",
      "execution_count": null,
      "metadata": {
        "id": "KfZWFokdVXGf"
      },
      "outputs": [],
      "source": [
        "num = input(\"Please enter an integer number: \")\n",
        "\n",
        "float_num = float(num)\n",
        "num = int(float_num)\n",
        "\n",
        "if int(float_num) != float_num:\n",
        "  print(\"Wrong input type: float, try again!\")\n",
        "elif num % 2 == 0:\n",
        "  print(num, \" is even.\")\n",
        "else:\n",
        "  print(num, \" is odd.\")\n"
      ]
    },
    {
      "cell_type": "markdown",
      "metadata": {
        "id": "Jm4T4NQeZfX3"
      },
      "source": [
        "Guess the number:"
      ]
    },
    {
      "cell_type": "code",
      "execution_count": null,
      "metadata": {
        "colab": {
          "base_uri": "https://localhost:8080/"
        },
        "id": "syJrkrNRZiLG",
        "outputId": "337a7222-12c6-487f-da9a-6cf81f6039fb"
      },
      "outputs": [
        {
          "name": "stdout",
          "output_type": "stream",
          "text": [
            "First guess please? 5\n",
            "Too small\n",
            "Second guess please? 7\n",
            "Too large\n",
            "Third guess please? 6\n",
            "You won!\n"
          ]
        }
      ],
      "source": [
        "import random\n",
        "\n",
        "# Pick a random number\n",
        "num = random.randrange(1,10)\n",
        "\n",
        "# Enter first guess\n",
        "guess = input('First guess please? ')\n",
        "guess = int(guess)\n",
        "\n",
        "if guess == num:\n",
        "  print('You won!')\n",
        "else:\n",
        "  if guess > num:\n",
        "    print('Too large')\n",
        "  else:\n",
        "    print('Too small')\n",
        "  # Enter second guess\n",
        "  guess = input('Second guess please? ')\n",
        "  guess = int(guess)\n",
        "  if guess == num:\n",
        "    print('You won!')\n",
        "  else:\n",
        "    if guess > num:\n",
        "      print('Too large')\n",
        "    else:\n",
        "      print('Too small')\n",
        "    # Enter third guess\n",
        "    guess = input('Third guess please? ')\n",
        "    guess = int(guess)\n",
        "    if guess == num:\n",
        "      print('You won!')\n",
        "    else:\n",
        "      print('Wrong guess')\n",
        "      print('No more chances, you lose!')\n",
        "      print('The right number was: ', num)\n",
        "\n"
      ]
    },
    {
      "cell_type": "markdown",
      "metadata": {
        "id": "uhpfHkGPRloR"
      },
      "source": [
        "Guess the number using while loop"
      ]
    },
    {
      "cell_type": "code",
      "execution_count": null,
      "metadata": {
        "id": "_GybPsg1RrTg"
      },
      "outputs": [],
      "source": [
        "import random\n",
        "\n",
        "# Pick a random number\n",
        "num = random.randrange(1,1000)\n",
        "\n",
        "MaxRounds = 4\n",
        "# Enter first guess\n",
        "guess = input('First guess please? ')\n",
        "guess = int(guess)\n",
        "\n",
        "round = 1\n",
        "while guess != num:\n",
        "  if round > MaxRounds:\n",
        "    print('You tried all your chances :( :(')\n",
        "    break\n",
        "  if guess > num:\n",
        "    print('Too Large!')\n",
        "  else:\n",
        "    print('Too small!')\n",
        "  guess = input('Next guess please? ')\n",
        "  guess = int(guess)\n",
        "  round += 1\n",
        "else:\n",
        "  print('!!You Won!!')"
      ]
    },
    {
      "cell_type": "code",
      "execution_count": null,
      "metadata": {
        "id": "n3ThcEHRUyO7"
      },
      "outputs": [],
      "source": [
        "import random\n",
        "\n",
        "# Pick a random number\n",
        "num = random.randrange(1,1000)\n",
        "\n",
        "MaxRounds = 4\n",
        "# Enter first guess\n",
        "guess = input('First guess please? ')\n",
        "guess = int(guess)\n",
        "\n",
        "round = 1\n",
        "while (guess != num) and (round <= MaxRounds):\n",
        "  if guess > num:\n",
        "    print('Too Large!')\n",
        "  else:\n",
        "    print('Too small!')\n",
        "  guess = input('Next guess please? ')\n",
        "  guess = int(guess)\n",
        "  round += 1\n",
        "\n",
        "if guess == num:\n",
        "  print('!!You Won!!')\n",
        "elif round > MaxRounds:\n",
        "    print('You tried all your chances :( :(')\n"
      ]
    },
    {
      "cell_type": "code",
      "execution_count": null,
      "metadata": {
        "id": "HHdBdAX1Vb4d"
      },
      "outputs": [],
      "source": [
        "import random\n",
        "\n",
        "# Pick a random number\n",
        "num = random.randrange(1,1000)\n",
        "\n",
        "MaxRounds = 14\n",
        "score = 100\n",
        "# Enter first guess\n",
        "guess = input('First guess please? ')\n",
        "guess = int(guess)\n",
        "\n",
        "round = 1\n",
        "while (guess != num) and (round <= MaxRounds):\n",
        "  if guess > num:\n",
        "    print('Too Large!')\n",
        "  else:\n",
        "    print('Too small!')\n",
        "  guess = input('Next guess please? [points to earn = {}] '.format(int(score/2)))\n",
        "  guess = int(guess)\n",
        "  round += 1\n",
        "  score = int(score/2)\n",
        "\n",
        "if guess == num:\n",
        "  print('!!You Won with score of {} points!!'.format(score))\n",
        "elif round > MaxRounds:\n",
        "    print('You tried all your chances :( :(')"
      ]
    },
    {
      "cell_type": "code",
      "execution_count": null,
      "metadata": {
        "colab": {
          "base_uri": "https://localhost:8080/"
        },
        "id": "BbXbLiqJYTAa",
        "outputId": "c695b508-8035-431e-d910-c425c120a92f"
      },
      "outputs": [
        {
          "name": "stdout",
          "output_type": "stream",
          "text": [
            "Max sum threshold: 1000\n",
            "[[1, 1.0], [2, 2.5], [3, 5.0], [4, 8.5], [5, 13.0], [6, 18.5], [7, 25.0], [8, 32.5], [9, 41.0], [10, 50.5], [11, 61.0], [12, 72.5], [13, 85.0], [14, 98.5], [15, 113.0], [16, 128.5], [17, 145.0]]\n",
            "Sum = 901.0 which is less than 1000\n"
          ]
        }
      ],
      "source": [
        "#print Natural numbers until sum less than threshold\n",
        "def a_x(x):\n",
        "  return (x**2+1)/2\n",
        "\n",
        "n = 1\n",
        "threshold = int(input('Max sum threshold: '))\n",
        "sum = a_x(n)\n",
        "series = []\n",
        "while sum < threshold:\n",
        "  series.append([n,a_x(n)])\n",
        "  n += 1\n",
        "  sum += a_x(n)\n",
        "print(series)\n",
        "print('Sum = {} which is less than {}'.format(sum-a, threshold))"
      ]
    },
    {
      "cell_type": "code",
      "execution_count": null,
      "metadata": {
        "colab": {
          "base_uri": "https://localhost:8080/"
        },
        "id": "PoA4-yQHcJSq",
        "outputId": "93d7fc84-f6ad-402e-fab9-03bf9bd8a7db"
      },
      "outputs": [
        {
          "name": "stdout",
          "output_type": "stream",
          "text": [
            "Max sum threshold: 1000\n",
            "[1, 2, 3, 4, 5, 6, 7, 8, 9, 10, 11, 12, 13, 14, 15, 16, 17, 18, 19, 20, 21, 22, 23, 24, 25, 26, 27, 28, 29, 30, 31, 32, 33, 34, 35, 36, 37]\n",
            "Sum = 954.0472422019973\n"
          ]
        }
      ],
      "source": [
        "#print series until sum less than threshold\n",
        "# Ex. a(n) = (n^2+1)/2\n",
        "import math\n",
        "\n",
        "def series(n):\n",
        "  #return (n ** 2 + 1)/2=\n",
        "  return n*math.log10(n)\n",
        "n = 1\n",
        "threshold = int(input('Max sum threshold: '))\n",
        "sum = series(n)\n",
        "series_list = []\n",
        "while sum < threshold:\n",
        "  series_list.append(n)\n",
        "  n += 1\n",
        "  sum += series(n)\n",
        "print(series_list)\n",
        "print('Sum = {}'.format(sum-series(n)))\n"
      ]
    },
    {
      "cell_type": "code",
      "execution_count": null,
      "metadata": {
        "colab": {
          "base_uri": "https://localhost:8080/"
        },
        "id": "VBJrA4g6ihs-",
        "outputId": "9737e7f0-6e62-434c-dc81-81bcc11c1b99"
      },
      "outputs": [
        {
          "name": "stdout",
          "output_type": "stream",
          "text": [
            "1 1\n",
            "2\n",
            "3\n",
            "5\n",
            "8\n",
            "13\n",
            "21\n",
            "34\n",
            "55\n",
            "89\n",
            "144\n"
          ]
        }
      ],
      "source": [
        "#Fibonacci Series\n",
        "\n",
        "prev = 1\n",
        "cur = 1\n",
        "new = cur + prev\n",
        "print(prev, cur)\n",
        "\n",
        "for x in range(10):\n",
        "  print(new)\n",
        "  prev = cur\n",
        "  cur = new\n",
        "  new = cur + prev\n"
      ]
    },
    {
      "cell_type": "markdown",
      "metadata": {
        "id": "Pa1ncVaI3rol"
      },
      "source": []
    },
    {
      "cell_type": "code",
      "execution_count": null,
      "metadata": {
        "colab": {
          "base_uri": "https://localhost:8080/"
        },
        "id": "OLzCEa650N8p",
        "outputId": "cf245ed9-24d3-4d76-8b43-20ec1a970e20"
      },
      "outputs": [
        {
          "name": "stdout",
          "output_type": "stream",
          "text": [
            "is warm\n",
            "-------------\n",
            "10\n"
          ]
        }
      ],
      "source": [
        "s = 'i' + 's' + ' warm'\n",
        "print(s, end='\\n-------------\\n')\n",
        "print(10)"
      ]
    },
    {
      "cell_type": "code",
      "execution_count": null,
      "metadata": {
        "colab": {
          "base_uri": "https://localhost:8080/"
        },
        "id": "CeEGN5QdkQ2W",
        "outputId": "d28f17e5-4423-448e-8075-77e1590d86a9"
      },
      "outputs": [
        {
          "name": "stdout",
          "output_type": "stream",
          "text": [
            "provide a string:Alice is great\n",
            "provide pattern:is\n",
            "Found\n"
          ]
        }
      ],
      "source": [
        "s = input('provide a string:')\n",
        "pattern = input('provide pattern:')\n",
        "\n",
        "index = 0\n",
        "matchStr = ''\n",
        "for c in s:\n",
        "  if c == pattern[index]:\n",
        "    matchStr += c\n",
        "    index += 1\n",
        "  else:\n",
        "    matchStr = ''\n",
        "    index = 0\n",
        "  if matchStr == pattern:\n",
        "    print('Found')\n",
        "    break"
      ]
    },
    {
      "cell_type": "code",
      "execution_count": null,
      "metadata": {
        "colab": {
          "base_uri": "https://localhost:8080/"
        },
        "id": "X8WpMy2qkHj_",
        "outputId": "6a1fb074-3635-4ddb-bbe3-daf3d5d903b3"
      },
      "outputs": [
        {
          "name": "stdout",
          "output_type": "stream",
          "text": [
            "provide a string:Alice is great\n",
            "provide pattern:is\n",
            "Found is at position 6\n"
          ]
        }
      ],
      "source": [
        "s = input('provide a string:')\n",
        "pattern = input('provide pattern:')\n",
        "\n",
        "index = 0\n",
        "matchStr = ''\n",
        "pos = 0\n",
        "for c in s:\n",
        "  if c == pattern[index]:\n",
        "    matchStr += c\n",
        "    index += 1\n",
        "  else:\n",
        "    matchStr = ''\n",
        "    index = 0\n",
        "  pos += 1\n",
        "  if matchStr == pattern:\n",
        "    print('Found {} at position {}'.format(matchStr, pos-index))\n",
        "    break"
      ]
    },
    {
      "cell_type": "code",
      "execution_count": null,
      "metadata": {
        "colab": {
          "base_uri": "https://localhost:8080/"
        },
        "id": "IO6sQK0snNVy",
        "outputId": "0d2ba895-b68f-4202-cc72-a58d8f7d75a3"
      },
      "outputs": [
        {
          "name": "stdout",
          "output_type": "stream",
          "text": [
            "provide a string:Hello world\n",
            "provide pattern:l\n",
            "He^l^lo world\n",
            "Hel^l^o world\n",
            "Hello wor^l^d\n"
          ]
        }
      ],
      "source": [
        "s = input('provide a string:')\n",
        "pattern = input('provide pattern:')\n",
        "\n",
        "index = 0\n",
        "matchStr = ''\n",
        "pos = 0\n",
        "for c in s:\n",
        "  if c == pattern[index]:\n",
        "    matchStr += c\n",
        "    index += 1\n",
        "  else:\n",
        "    matchStr = ''\n",
        "    index = 0\n",
        "  pos += 1\n",
        "  if matchStr == pattern:\n",
        "    print('{}^{}^{}'.format(s[0:pos-index], s[pos-index:pos], s[pos:]))\n",
        "    index = 0\n",
        "    matchStr = ''\n"
      ]
    },
    {
      "cell_type": "code",
      "execution_count": null,
      "metadata": {
        "colab": {
          "base_uri": "https://localhost:8080/"
        },
        "id": "bGSFV5oZ2A7-",
        "outputId": "abcb3b78-6016-4893-85c5-7c2051347422"
      },
      "outputs": [
        {
          "name": "stdout",
          "output_type": "stream",
          "text": [
            "How many lines?40\n",
            "*                                                                             *\n",
            "**                                                                           **\n",
            "***                                                                         ***\n",
            "****                                                                       ****\n",
            "*****                                                                     *****\n",
            "******                                                                   ******\n",
            "*******                                                                 *******\n",
            "********                                                               ********\n",
            "*********                                                             *********\n",
            "**********                                                           **********\n",
            "***********                                                         ***********\n",
            "************                                                       ************\n",
            "*************                                                     *************\n",
            "**************                                                   **************\n",
            "***************                                                 ***************\n",
            "****************                                               ****************\n",
            "*****************                                             *****************\n",
            "******************                                           ******************\n",
            "*******************                                         *******************\n",
            "********************                                       ********************\n",
            "*********************                                     *********************\n",
            "**********************                                   **********************\n",
            "***********************                                 ***********************\n",
            "************************                               ************************\n",
            "*************************                             *************************\n",
            "**************************                           **************************\n",
            "***************************                         ***************************\n",
            "****************************                       ****************************\n",
            "*****************************                     *****************************\n",
            "******************************                   ******************************\n",
            "*******************************                 *******************************\n",
            "********************************               ********************************\n",
            "*********************************             *********************************\n",
            "**********************************           **********************************\n",
            "***********************************         ***********************************\n",
            "************************************       ************************************\n",
            "*************************************     *************************************\n",
            "**************************************   **************************************\n",
            "*************************************** ***************************************\n",
            "*******************************************************************************\n",
            "*************************************** ***************************************\n",
            "**************************************   **************************************\n",
            "*************************************     *************************************\n",
            "************************************       ************************************\n",
            "***********************************         ***********************************\n",
            "**********************************           **********************************\n",
            "*********************************             *********************************\n",
            "********************************               ********************************\n",
            "*******************************                 *******************************\n",
            "******************************                   ******************************\n",
            "*****************************                     *****************************\n",
            "****************************                       ****************************\n",
            "***************************                         ***************************\n",
            "**************************                           **************************\n",
            "*************************                             *************************\n",
            "************************                               ************************\n",
            "***********************                                 ***********************\n",
            "**********************                                   **********************\n",
            "*********************                                     *********************\n",
            "********************                                       ********************\n",
            "*******************                                         *******************\n",
            "******************                                           ******************\n",
            "*****************                                             *****************\n",
            "****************                                               ****************\n",
            "***************                                                 ***************\n",
            "**************                                                   **************\n",
            "*************                                                     *************\n",
            "************                                                       ************\n",
            "***********                                                         ***********\n",
            "**********                                                           **********\n",
            "*********                                                             *********\n",
            "********                                                               ********\n",
            "*******                                                                 *******\n",
            "******                                                                   ******\n",
            "*****                                                                     *****\n",
            "****                                                                       ****\n",
            "***                                                                         ***\n",
            "**                                                                           **\n",
            "*                                                                             *\n"
          ]
        }
      ],
      "source": [
        "#*\n",
        "# *\n",
        "#  *\n",
        "#   *\n",
        "#    *\n",
        "\n",
        "n = int(input('How many lines?'))\n",
        "for i in range(n):\n",
        "  s = ''\n",
        "  for j in range(2*n-1):\n",
        "    if j <= i:\n",
        "      s += '*'\n",
        "    elif j >= 2*n-i-2:\n",
        "      s += '*'\n",
        "    else:\n",
        "      s += ' '\n",
        "  print(s)\n",
        "for i in range(n-2,-1,-1):\n",
        "  s = ''\n",
        "  for j in range(2*n-1):\n",
        "    if j <= i:\n",
        "      s += '*'\n",
        "    elif j >= 2*n-i-2:\n",
        "      s += '*'\n",
        "    else:\n",
        "      s += ' '\n",
        "  print(s)\n"
      ]
    },
    {
      "cell_type": "code",
      "execution_count": null,
      "metadata": {
        "colab": {
          "base_uri": "https://localhost:8080/"
        },
        "id": "G_ldFHv_kjpk",
        "outputId": "c23b79fb-5f42-4c15-c143-64c453ce7931"
      },
      "outputs": [
        {
          "name": "stdout",
          "output_type": "stream",
          "text": [
            "hello wor\n"
          ]
        }
      ],
      "source": [
        "#        **\n",
        "#      **  **\n",
        "#    ***    ***\n",
        "#  ****      ****\n",
        "#*****        *****\n",
        "#  ****      ****\n",
        "#    ***    ***\n",
        "#      **  **\n",
        "#        **\n",
        "\n",
        "s = 'hello world'\n",
        "print(s[:-2])"
      ]
    },
    {
      "cell_type": "code",
      "execution_count": null,
      "metadata": {
        "colab": {
          "base_uri": "https://localhost:8080/"
        },
        "id": "sBGlAB5pSjbP",
        "outputId": "623a8076-97fe-4c53-f6f1-b4934085127f"
      },
      "outputs": [
        {
          "name": "stdout",
          "output_type": "stream",
          "text": [
            "Hello I am 11 years old\n",
            "Hello I am 11 years old\n"
          ]
        }
      ],
      "source": [
        "age = 11\n",
        "s = \"Hello I am {} years old\".format(age)\n",
        "print(s)\n",
        "ss = f\"Hello I am {age} years old\"\n",
        "print(ss)"
      ]
    },
    {
      "cell_type": "code",
      "execution_count": null,
      "metadata": {
        "colab": {
          "base_uri": "https://localhost:8080/"
        },
        "id": "PmGRVg2Fj2k0",
        "outputId": "a0fda0b4-ce2c-4b13-d9d5-beae228b3826"
      },
      "outputs": [
        {
          "name": "stdout",
          "output_type": "stream",
          "text": [
            "[1, 3, 5, 7, 9, 11, 13, 15, 17, 19]\n"
          ]
        }
      ],
      "source": [
        "odd = [2*k+1 for k in range(10)]\n",
        "print(odd)"
      ]
    },
    {
      "cell_type": "code",
      "execution_count": null,
      "metadata": {
        "colab": {
          "base_uri": "https://localhost:8080/"
        },
        "id": "mFaR4CSWqutF",
        "outputId": "5444cb5e-a7f8-4e0c-9f76-2b6e8b9a0487"
      },
      "outputs": [
        {
          "name": "stdout",
          "output_type": "stream",
          "text": [
            "watermelon\n",
            "orange\n",
            "apple\n",
            "banana\n",
            "['watermelon', 'orange', 'apple', 'banana']\n"
          ]
        }
      ],
      "source": [
        "fruits = [\"banana\", \"apple\", \"orange\", \"watermelon\"]\n",
        "for i in range(1,len(fruits)+1):\n",
        "  print(fruits[-i])\n",
        "\n",
        "rev = [fruits[-i] for i in range(1,len(fruits)+1)]\n",
        "print(rev)"
      ]
    },
    {
      "cell_type": "markdown",
      "metadata": {
        "id": "vAJxZMw5fsdB"
      },
      "source": [
        "\n",
        "swap two variables\n",
        "---\n",
        "\n"
      ]
    },
    {
      "cell_type": "code",
      "execution_count": null,
      "metadata": {
        "colab": {
          "base_uri": "https://localhost:8080/"
        },
        "id": "7VwkjX4Ufil4",
        "outputId": "fb963683-368f-460a-d334-e1d6f7942a1c"
      },
      "outputs": [
        {
          "name": "stdout",
          "output_type": "stream",
          "text": [
            "127 72\n"
          ]
        }
      ],
      "source": [
        "x = 72\n",
        "y = 127\n",
        "\n",
        "temp = x\n",
        "x = y\n",
        "y = temp\n",
        "\n",
        "print(x,y)"
      ]
    },
    {
      "cell_type": "code",
      "execution_count": null,
      "metadata": {
        "colab": {
          "base_uri": "https://localhost:8080/"
        },
        "id": "tB4c2RyljqTJ",
        "outputId": "cb055a34-152b-4dbb-ce5a-48bc482463cb"
      },
      "outputs": [
        {
          "name": "stdout",
          "output_type": "stream",
          "text": [
            "3.0\n",
            "3.0 3\n"
          ]
        }
      ],
      "source": [
        "n = input()\n",
        "c = int(float(n)) + 1 if float(n) != int(float(n)) else int(float(n))\n",
        "\n",
        "print(n, c)"
      ]
    },
    {
      "cell_type": "code",
      "execution_count": null,
      "metadata": {
        "colab": {
          "base_uri": "https://localhost:8080/"
        },
        "id": "zEMcHwQFnVuz",
        "outputId": "5978534e-c017-4457-d3ed-8ace572d7a80"
      },
      "outputs": [
        {
          "name": "stdout",
          "output_type": "stream",
          "text": [
            "-2\n",
            "0\n",
            "2\n",
            "4\n"
          ]
        }
      ],
      "source": [
        "for x in range(-2,6,2):\n",
        "  print(x)"
      ]
    },
    {
      "cell_type": "code",
      "execution_count": null,
      "metadata": {
        "colab": {
          "base_uri": "https://localhost:8080/"
        },
        "id": "aVmdw3Eqotba",
        "outputId": "b215b9a9-b5d8-48cf-e1df-65085d68e4a9"
      },
      "outputs": [
        {
          "name": "stdout",
          "output_type": "stream",
          "text": [
            "red apple red\n",
            "red banana red\n",
            "red cherry red\n",
            "big apple big\n",
            "big banana big\n",
            "big cherry big\n",
            "tasty apple tasty\n",
            "tasty banana tasty\n",
            "tasty cherry tasty\n"
          ]
        }
      ],
      "source": [
        "adj = [\"red\", \"big\", \"tasty\"]\n",
        "fruits = [\"apple\", \"banana\", \"cherry\"]\n",
        "\n",
        "for x in adj:\n",
        "  for y in fruits:\n",
        "    print(x, y, x)\n"
      ]
    },
    {
      "cell_type": "markdown",
      "metadata": {
        "id": "KpU0_7NSqvFE"
      },
      "source": [
        "Compute sum of numbers"
      ]
    },
    {
      "cell_type": "code",
      "execution_count": null,
      "metadata": {
        "colab": {
          "base_uri": "https://localhost:8080/"
        },
        "id": "zTWWqaBJqyho",
        "outputId": "df2080c5-22d5-4cb6-b38e-3ba963b76332"
      },
      "outputs": [
        {
          "name": "stdout",
          "output_type": "stream",
          "text": [
            "To what number should I compute the sum?100\n",
            "5050\n"
          ]
        }
      ],
      "source": [
        "max = int(input('To what number should I compute the sum?'))\n",
        "sum = 0 # holds sum of numbers, initialize to zero\n",
        "for n in range(1,max+1):\n",
        "  sum = sum + n\n",
        "\n",
        "print(sum)"
      ]
    },
    {
      "cell_type": "markdown",
      "metadata": {
        "id": "H2QhXyxjwAm6"
      },
      "source": [
        "**The Fibonacci series:**\n",
        "\n",
        "\n",
        "a1=0, a2=1, (a1+a2), a2 + (a1+a2), ...\n",
        "\n",
        "0, 1, 1, 2, 3, 5, 8, 13, ...."
      ]
    },
    {
      "cell_type": "code",
      "execution_count": null,
      "metadata": {
        "id": "pl1qFSXswBuo"
      },
      "outputs": [],
      "source": [
        "max_index = int(input('Enter last index of Fibonacci series:'))\n",
        "\n",
        "prev = 0\n",
        "fib = 1\n",
        "\n",
        "print(prev)\n",
        "for index in range(max_index+1):\n",
        "  print(fib)\n",
        "  temp = fib\n",
        "  fib = fib + prev\n",
        "  prev = temp\n",
        "\n",
        "print(fib)\n"
      ]
    },
    {
      "cell_type": "markdown",
      "metadata": {
        "id": "23vm9TmG0nyE"
      },
      "source": [
        "Gessing Game"
      ]
    },
    {
      "cell_type": "code",
      "execution_count": null,
      "metadata": {
        "colab": {
          "base_uri": "https://localhost:8080/"
        },
        "id": "798ZocFj0p1U",
        "outputId": "641b42d3-3b89-4706-e19f-105cd864617d"
      },
      "outputs": [
        {
          "name": "stdout",
          "output_type": "stream",
          "text": [
            "Guess a number between 1 and 100: 50\n",
            "Too large\n",
            "Guess a number between 1 and 100: 25\n",
            "Too large\n",
            "Guess a number between 1 and 100: 12\n",
            "Too small\n",
            "Guess a number between 1 and 100: 18\n",
            "Too large\n",
            "Guess a number between 1 and 100: 16\n",
            "Too large\n",
            "Guess a number between 1 and 100: 17\n",
            "Too large\n",
            "Guess a number between 1 and 100: 13\n",
            "Too small\n",
            "Guess a number between 1 and 100: 14\n",
            "Too small\n",
            "Guess a number between 1 and 100: 15\n",
            "!!!!!!!!!!!! You won !!!!!!!!!\n"
          ]
        }
      ],
      "source": [
        "import random\n",
        "\n",
        "# Pick a random number\n",
        "num = random.randrange(1,100)\n",
        "\n",
        "for i in range(11):\n",
        "  # Enter guess\n",
        "  guess = input('Guess a number between 1 and 100: ')\n",
        "  guess = int(guess)\n",
        "\n",
        "  if guess == num:\n",
        "    print('!!!!!!!!!!!! You won !!!!!!!!!')\n",
        "    break\n",
        "  elif guess > num:\n",
        "    print('Too large')\n",
        "  else:\n",
        "    print('Too small')\n"
      ]
    },
    {
      "cell_type": "markdown",
      "metadata": {
        "id": "91NNlJzZ2BBs"
      },
      "source": [
        "**Compute Score Based on Guess Performance**"
      ]
    },
    {
      "cell_type": "code",
      "execution_count": null,
      "metadata": {
        "id": "T_0n2xqI2GyB"
      },
      "outputs": [],
      "source": [
        "import random\n",
        "\n",
        "# Pick a random number\n",
        "num = random.randrange(1,100)\n",
        "\n",
        "score = 10\n",
        "for i in range(11):\n",
        "  # Enter guess\n",
        "  guess = input('Guess a number between 1 and 100: ')\n",
        "  guess = int(guess)\n",
        "\n",
        "  if guess == num:\n",
        "    print('!!!!!!!!!!!! You won, scored {} !!!!!!!!!'.format(score))\n",
        "    break\n",
        "  elif guess > num:\n",
        "    print('Too large')\n",
        "  else:\n",
        "    print('Too small')\n",
        "  score -= 1"
      ]
    },
    {
      "cell_type": "markdown",
      "metadata": {
        "id": "oZ2uvZLJXx1Y"
      },
      "source": [
        "Search in a list:\n"
      ]
    },
    {
      "cell_type": "code",
      "execution_count": null,
      "metadata": {
        "colab": {
          "base_uri": "https://localhost:8080/"
        },
        "id": "E3Nc9J_0X1Ac",
        "outputId": "12071204-df86-46e2-9a7e-bc4dda93ff43"
      },
      "outputs": [
        {
          "name": "stdout",
          "output_type": "stream",
          "text": [
            "Enter you name: vladimir\n"
          ]
        }
      ],
      "source": [
        "nameList = [\"ali\", \"hassan\", \"hossein\", \"nader\", \"mohammad\", \"sara\", \"nazanin\", \"soodeh\", \"niloofar\", \"leila\", \"vladimir\"]\n",
        "markList = [17   , 18      , 15       , 18     , 20        , 19    , 14       , 18      , 12      , 16     , 9.95]\n",
        "\n",
        "name = input('Enter you name: ')\n",
        "\n",
        "idx = 0\n",
        "for item in nameList:\n",
        "  #print(idx, item)\n",
        "  if item == name:\n",
        "    print('{}\\'s mark is {}'.format(item, markList[idx]))\n",
        "  idx += 1\n"
      ]
    },
    {
      "cell_type": "code",
      "execution_count": null,
      "metadata": {
        "colab": {
          "base_uri": "https://localhost:8080/"
        },
        "id": "L8WLzXOXdwG5",
        "outputId": "cc9ec2e6-b6db-41ac-8453-5886959a4c7e"
      },
      "outputs": [
        {
          "name": "stdout",
          "output_type": "stream",
          "text": [
            "Input sentence: hello\n",
            "olleh\n",
            "olleh\n",
            "olleh\n"
          ]
        }
      ],
      "source": [
        "#Reverse a string: 'hello world!' --> '!dlrow olleh'\n",
        "\n",
        "#['h', 'e', 'l', 'l', 'o']\n",
        "\n",
        "sentence = input('Input sentence: ')\n",
        "reverse = ''\n",
        "\n",
        "for i in range(len(sentence)-1,-1,-1):\n",
        "  reverse = reverse + sentence[i]\n",
        "\n",
        "print(reverse)\n",
        "\n",
        "reverse = ''\n",
        "for i in range(1,len(sentence)+1):\n",
        "  reverse += sentence[-i]\n",
        "\n",
        "print(reverse)\n",
        "\n",
        "print(sentence[::-1])"
      ]
    },
    {
      "cell_type": "code",
      "execution_count": null,
      "metadata": {
        "colab": {
          "base_uri": "https://localhost:8080/"
        },
        "id": "SGZlzCel0_j0",
        "outputId": "0b055a75-5559-477b-c9e5-0b822e50c7ff"
      },
      "outputs": [
        {
          "name": "stdout",
          "output_type": "stream",
          "text": [
            "9876543210\n"
          ]
        }
      ],
      "source": [
        "s = \"0123456789\"\n",
        "print(s[::-1])"
      ]
    },
    {
      "cell_type": "code",
      "execution_count": null,
      "metadata": {
        "colab": {
          "base_uri": "https://localhost:8080/"
        },
        "id": "476PDS3Fhdtm",
        "outputId": "3f1e4369-2349-4ab7-bde0-220501c06d79"
      },
      "outputs": [
        {
          "name": "stdout",
          "output_type": "stream",
          "text": [
            "Decimal number between 0 and 1000? 1\n",
            "1 in binary is 10\n"
          ]
        }
      ],
      "source": [
        "# Convert from base 10 to base 2 (decimal --> binary)\n",
        "# 12 --> 1100\n",
        "\n",
        "decimal = int(input('Decimal number between 0 and 1000? '))\n",
        "binary = 0\n",
        "temp = decimal\n",
        "\n",
        "for i in range(0,10):\n",
        "  binary += temp % 2\n",
        "  if temp == 0:\n",
        "    break\n",
        "  temp //= 2\n",
        "  binary *= 10\n",
        "\n",
        "print('{} in binary is {}'.format(decimal, binary))"
      ]
    },
    {
      "cell_type": "code",
      "execution_count": null,
      "metadata": {
        "colab": {
          "base_uri": "https://localhost:8080/"
        },
        "id": "xyFl2u4scH10",
        "outputId": "a35c20dc-9e03-4622-c31b-9d9d5186be80"
      },
      "outputs": [
        {
          "name": "stdout",
          "output_type": "stream",
          "text": [
            "0\n",
            "a\n"
          ]
        }
      ],
      "source": [
        "i = int(input())\n",
        "l = ['a','b',1,True,3.4]\n",
        "print(l[i])"
      ]
    },
    {
      "cell_type": "code",
      "execution_count": null,
      "metadata": {
        "colab": {
          "base_uri": "https://localhost:8080/"
        },
        "id": "KtFgmjsxhr-I",
        "outputId": "e3ddd530-5dce-44e3-85d7-90d76f7772ea"
      },
      "outputs": [
        {
          "name": "stdout",
          "output_type": "stream",
          "text": [
            "apple\n",
            "banana\n",
            "cherry\n",
            "orange\n",
            "kiwi\n",
            "melon\n",
            "mango\n",
            "============\n",
            "apple\n",
            "banana\n",
            "cherry\n",
            "orange\n",
            "kiwi\n",
            "melon\n",
            "mango\n"
          ]
        }
      ],
      "source": [
        "ls = [\"apple\", \"banana\", \"cherry\", \"orange\", \"kiwi\", \"melon\", \"mango\"]\n",
        "for index in range(0,len(ls)):\n",
        "  print(ls[index])\n",
        "print('============')\n",
        "for item in ls:\n",
        "  print(item)"
      ]
    },
    {
      "cell_type": "code",
      "execution_count": null,
      "metadata": {
        "colab": {
          "base_uri": "https://localhost:8080/"
        },
        "id": "As1DOBuVimk4",
        "outputId": "0908d0d9-a155-4dca-c952-ebc11c5bb16a"
      },
      "outputs": [
        {
          "name": "stdout",
          "output_type": "stream",
          "text": [
            "[5, 10, 6, 6, 4, 5, 5]\n"
          ]
        }
      ],
      "source": [
        "ls = [\"apple\", \"watermelon\", \"cherry\", \"orange\", \"kiwi\", \"melon\", \"mango\"]\n",
        "\n",
        "# output: lengths = [5, 10, 6, 6, 4, 5, 5]\n",
        "\n",
        "lengths = []\n",
        "for item in ls:\n",
        "  lengths.append(len(item))\n",
        "\n",
        "print(lengths)"
      ]
    },
    {
      "cell_type": "code",
      "execution_count": null,
      "metadata": {
        "colab": {
          "base_uri": "https://localhost:8080/"
        },
        "id": "7PyeWsCejUow",
        "outputId": "56a79847-666e-45eb-8bf0-327654b87643"
      },
      "outputs": [
        {
          "name": "stdout",
          "output_type": "stream",
          "text": [
            "[5, 10, 6, 6, 4, 5, 5]\n"
          ]
        }
      ],
      "source": [
        "ls = [\"apple\", \"watermelon\", \"cherry\", \"orange\", \"kiwi\", \"melon\", \"mango\"]\n",
        "\n",
        "# output: lengths = [5, 10, 6, 6, 4, 5, 5]\n",
        "\n",
        "lengths = [len(x) for x in ls] # list comprehension\n",
        "\n",
        "print(lengths)"
      ]
    },
    {
      "cell_type": "code",
      "execution_count": null,
      "metadata": {
        "colab": {
          "base_uri": "https://localhost:8080/"
        },
        "id": "nsK4pHz-j9Mj",
        "outputId": "e3b58f5f-6f04-4d94-fd05-695bda96d0b2"
      },
      "outputs": [
        {
          "name": "stdout",
          "output_type": "stream",
          "text": [
            "[('APPLE', 5), ('MELON', 5), ('MANGO', 5), ('APPLE', 5)]\n"
          ]
        }
      ],
      "source": [
        "# Filter al fuirts that are five characters long\n",
        "ls = [\"apple\", \"watermelon\", \"cherry\", \"orange\", \"kiwi\", \"melon\", \"mango\", \"apple\"]\n",
        "\n",
        "filtered = [(x.upper(),len(x)) for x in ls if len(x)==5]\n",
        "filt = [x for x in ls if x != 'apple']\n",
        "a = ['hello '+x for x in ls]\n",
        "\n",
        "print(filtered)"
      ]
    },
    {
      "cell_type": "code",
      "execution_count": null,
      "metadata": {
        "colab": {
          "base_uri": "https://localhost:8080/"
        },
        "id": "quU9ujl6THwZ",
        "outputId": "74a5eede-9688-4c62-cfa7-23288d740b39"
      },
      "outputs": [
        {
          "name": "stdout",
          "output_type": "stream",
          "text": [
            "[1, 5, 3, 78, -9, 110]\n",
            "[1, 5, 3, 78, -9, 110]\n",
            "[1, 5, 3, 78, -9]\n",
            "hello all \n",
            " hello\n"
          ]
        }
      ],
      "source": [
        "# Copying Lists\n",
        "\n",
        "ls1 = [1, 5, 3, 78, -9]\n",
        "ls2 = ls1 # pointer assignment\n",
        "ls1_copy = ls1.copy() #deep copy\n",
        "ls1.append(110)\n",
        "print(ls1)\n",
        "\n",
        "print(ls2)\n",
        "\n",
        "print(ls1_copy)\n",
        "\n",
        "s1 = 'hello'\n",
        "s2 = s1\n",
        "s1 = s1 + ' all'\n",
        "\n",
        "print(s1, '\\n', s2)"
      ]
    },
    {
      "cell_type": "code",
      "execution_count": null,
      "metadata": {
        "colab": {
          "base_uri": "https://localhost:8080/"
        },
        "id": "SVsngmQod5fy",
        "outputId": "0e75fb5c-ffab-4bf6-ff9b-eaaaebb430e8"
      },
      "outputs": [
        {
          "name": "stdout",
          "output_type": "stream",
          "text": [
            "student name? ali\n",
            "student id? 7067\n",
            "ali's 0 mark:18\n",
            "ali's 1 mark:20\n",
            "student name? hassan\n",
            "student id? 7799\n",
            "hassan's 0 mark:14\n",
            "hassan's 1 mark:17\n",
            "student name? nazanin\n",
            "student id? 7009\n",
            "nazanin's 0 mark:20\n",
            "nazanin's 1 mark:16\n",
            "student name? hossein\n",
            "student id? 7000\n",
            "hossein's 0 mark:12\n",
            "hossein's 1 mark:8\n",
            "student name? sara\n",
            "student id? 8023\n",
            "sara's 0 mark:14\n",
            "sara's 1 mark:16\n",
            "ali 7067 avg:  19.0\n",
            "hassan 7799 avg:  15.5\n",
            "nazanin 7009 avg:  18.0\n",
            "hossein 7000 avg:  10.0\n",
            "sara 8023 avg:  15.0\n"
          ]
        }
      ],
      "source": [
        "# example of using a tuple: student records\n",
        "\n",
        "std_list = []\n",
        "for i in range(5):\n",
        "  name = input('student name? ')\n",
        "  id = int(input('student id? '))\n",
        "  markList = []\n",
        "  for j in range(2):\n",
        "    mark = int(input(name+'\\'s '+str(j)+' mark:'))\n",
        "    markList.append(mark)\n",
        "  std = (name, id, markList)\n",
        "  std_list.append(std)\n",
        "\n",
        "for std in std_list:\n",
        "  (name, id, marks) = std # unpacking\n",
        "  print(name+' '+str(id)+' avg: ', (marks[0]+marks[1])/2)"
      ]
    },
    {
      "cell_type": "code",
      "execution_count": null,
      "metadata": {
        "colab": {
          "base_uri": "https://localhost:8080/"
        },
        "id": "j6Cas_rfeZEa",
        "outputId": "d7232dd2-e730-457c-bd67-60f5a9703773"
      },
      "outputs": [
        {
          "name": "stdout",
          "output_type": "stream",
          "text": [
            "{'ali': 170, 'hassan': 175, 'hossein': 185, 'maryam': 165}\n"
          ]
        }
      ],
      "source": [
        "# Create a dict out of two lists\n",
        "key_list = ['ali', 'hassan', 'hossein', 'maryam']\n",
        "val_list = [170, 175, 185, 165]\n",
        "\n",
        "d = {}\n",
        "\n",
        "i = 0\n",
        "for k in key_list:\n",
        "  d[k] = val_list[i]\n",
        "  i += 1\n",
        "\n",
        "\n",
        "for i in range(len(key_list)):\n",
        "  d[key_list[i]] = val_list[i]\n",
        "\n",
        "print(d)\n"
      ]
    },
    {
      "cell_type": "code",
      "execution_count": null,
      "metadata": {
        "colab": {
          "base_uri": "https://localhost:8080/"
        },
        "id": "tEi3zdghixhF",
        "outputId": "ca2fded4-c53e-41c8-d291-3c54067ac36c"
      },
      "outputs": [
        {
          "name": "stdout",
          "output_type": "stream",
          "text": [
            "{4: 12, 5: 14, 7: 7, 8: 14, 3: 12, 1: 9, 0: 9, 9: 10, 2: 6, 6: 7}\n"
          ]
        }
      ],
      "source": [
        "# take a list of random numbers and create a frequency dictionary\n",
        "# Ex.\n",
        "# [1,2,1] --> {1: 2, 2: 1}\n",
        "import random\n",
        "num = 100 # length of list of random numbers\n",
        "max = 10 # max range of random numbers\n",
        "\n",
        "rand_list = [random.randrange(0,max) for i in range(num)]\n",
        "#print(rand_list)\n",
        "count = {}\n",
        "\n",
        "for val in rand_list:\n",
        "  cnt = count.get(val,0)\n",
        "  cnt += 1\n",
        "  # count[val] = cnt\n",
        "  count.update({val: cnt})\n",
        "  # print(val, count)\n",
        "\n",
        "print(count)"
      ]
    },
    {
      "cell_type": "code",
      "execution_count": null,
      "metadata": {
        "colab": {
          "base_uri": "https://localhost:8080/"
        },
        "id": "UvRMuNGbxjHH",
        "outputId": "68fe1d43-e909-422d-8aab-a708f4d25211"
      },
      "outputs": [
        {
          "name": "stdout",
          "output_type": "stream",
          "text": [
            "List size = ?10000\n",
            "Max = 999\n"
          ]
        }
      ],
      "source": [
        "# Get the maximum of a list\n",
        "import random\n",
        "length = int(input('List size = ?'))\n",
        "rand_list = [random.randrange(1,1000) for i in range(length)]\n",
        "#rand_list = [10, 1, 17, -9, 100, 23, 91, 0, 2, 1]\n",
        "\n",
        "max = rand_list[0]\n",
        "for item in rand_list[1:]:\n",
        "  if item > max:\n",
        "    max = item\n",
        "\n",
        "print('Max = {}'.format(max))"
      ]
    },
    {
      "cell_type": "code",
      "execution_count": null,
      "metadata": {
        "colab": {
          "base_uri": "https://localhost:8080/"
        },
        "id": "b74CgViPxobC",
        "outputId": "932709b2-a2f0-4116-aca7-361603dc8295"
      },
      "outputs": [
        {
          "name": "stdout",
          "output_type": "stream",
          "text": [
            "List size = ?1000000\n",
            "0 [999]\n",
            "1 [999, 998]\n",
            "2 [999, 998, 997]\n",
            "3 [999, 998, 997, 996]\n",
            "4 [999, 998, 997, 996, 995]\n",
            "5 [999, 998, 997, 996, 995, 994]\n",
            "6 [999, 998, 997, 996, 995, 994, 993]\n",
            "7 [999, 998, 997, 996, 995, 994, 993, 992]\n",
            "8 [999, 998, 997, 996, 995, 994, 993, 992, 991]\n",
            "9 [999, 998, 997, 996, 995, 994, 993, 992, 991, 990]\n",
            "top10 = [999, 998, 997, 996, 995, 994, 993, 992, 991, 990]\n"
          ]
        }
      ],
      "source": [
        "# Get the top k max of a list\n",
        "import random\n",
        "length = int(input('List size = ?'))\n",
        "rand_list = [random.randrange(1,1000) for i in range(length)]\n",
        "#rand_list = [878, 266, 10, 237, 100]\n",
        "\n",
        "#print(rand_list)\n",
        "topk = 10\n",
        "if topk > len(rand_list):\n",
        "  topk = len(rand_list)\n",
        "\n",
        "topk_list = []\n",
        "for t in range(topk):\n",
        "  max = -999999999999\n",
        "  for item in rand_list:\n",
        "    if (item > max) and (item not in topk_list):\n",
        "      max = item\n",
        "  topk_list.append(max)\n",
        "  print(t, topk_list)\n",
        "\n",
        "print('top{} = {}'.format(topk, topk_list))"
      ]
    },
    {
      "cell_type": "code",
      "execution_count": null,
      "metadata": {
        "colab": {
          "base_uri": "https://localhost:8080/"
        },
        "id": "aEA6SUpCpoD-",
        "outputId": "3abeee09-d262-43e6-9676-32e47b42f084"
      },
      "outputs": [
        {
          "name": "stdout",
          "output_type": "stream",
          "text": [
            "<class 'bytes'>\n",
            "<class 'str'>\n",
            "{'page': 74, 'memory': 39, 'table': 27, 'physical': 21, 'address': 21, 'tables': 16, 'which': 15, 'virtual': 14, '+-----+': 14, 'level': 12, 'hierarchy': 10, 'pte': 10, 'faults': 10, 'linux': 9, 'pfn': 9, 'pages': 9, 'single': 9, 'because': 9, 'kernel': 9, 'ptr': 9, 'these': 9, 'each': 8, 's': 8, 'pgd': 8, 'pud': 8, 'cpu': 7, 'has': 7, 'entries': 7, 'entry': 7, 'pmd': 7}\n"
          ]
        }
      ],
      "source": [
        "import urllib.request\n",
        "#contents = urllib.request.urlopen(\"https://www.kernel.org/doc/Documentation/networking/filter.txt\").read()\n",
        "#contents = urllib.request.urlopen(\"https://gist.githubusercontent.com/phillipj/4944029/raw/75ba2243dd5ec2875f629bf5d79f6c1e4b5a8b46/alice_in_wonderland.txt\").read()\n",
        "contents = urllib.request.urlopen(\"https://www.kernel.org/doc/Documentation/mm/page_tables.rst\").read()\n",
        "\n",
        "print(type(contents))\n",
        "contents = contents.decode('utf-8') # convert byte array to utf-8 (ascii) string\n",
        "print(type(contents))\n",
        "\n",
        "contents = contents.replace(\"\\n\", \" \")\n",
        "contents = contents.replace(\"\\t\", \" \")\n",
        "contents = contents.replace(\"\\\\\", \" \")\n",
        "contents = contents.replace(\"/\", \" \")\n",
        "contents = contents.replace(\"<\", \" \")\n",
        "contents = contents.replace(\"*\", \" \")\n",
        "contents = contents.replace(\"&\", \" \")\n",
        "contents = contents.replace(\"=\", \" \")\n",
        "contents = contents.replace(\":\", \" \")\n",
        "contents = contents.replace(\".\", \" \")\n",
        "contents = contents.replace(\",\", \" \")\n",
        "contents = contents.replace(\"->\", \" \")\n",
        "contents = contents.replace(\"(\", \" \")\n",
        "contents = contents.replace(\")\", \" \")\n",
        "contents = contents.replace(\"|\", \" \")\n",
        "contents = contents.replace(\"{\", \" \")\n",
        "contents = contents.replace(\"}\", \" \")\n",
        "contents = contents.replace(\"`\", \" \")\n",
        "contents = contents.replace(\"'\", \" \")\n",
        "\n",
        "tokens = contents.split(' ')\n",
        "\n",
        "count = {} # {'token': count}\n",
        "for tk in tokens:\n",
        "  cnt = count.get(tk.lower(),0)\n",
        "  cnt += 1\n",
        "  count[tk.lower()] = cnt\n",
        "\n",
        "sorted_count = {}\n",
        "topn = 30\n",
        "dummy_tokens = ['me', 'my', 'its', 'by', 'an', 'there', 'then', 'do', 'or', 'all','so','very','not','this','but','i','they','out','he','his','about','one','what','were','went','like','herself','would','them','have','could','when','','the','to','0','a','and','is','in','of','for','that','be','as','1','are','from','+','4','-','8','will','if','{','on','with','it','can','into','she','said','was','you','i','her','at','had']\n",
        "#dummy_tokens = []\n",
        "\n",
        "for i in range(topn):\n",
        "  max_count = 0\n",
        "  max_tk = ''\n",
        "  for (tk,cnt) in count.items():\n",
        "    if tk not in dummy_tokens and tk not in sorted_count and cnt > max_count:\n",
        "      max_tk = tk\n",
        "      max_count = cnt\n",
        "  #print(\"\\'{}\\'\".format(max_tk), end=',')\n",
        "  sorted_count.update({max_tk: max_count})\n",
        "\n",
        "print(sorted_count)"
      ]
    },
    {
      "cell_type": "code",
      "execution_count": null,
      "metadata": {
        "colab": {
          "base_uri": "https://localhost:8080/"
        },
        "id": "A7Wja6jgJbcl",
        "outputId": "99f2982d-11d2-4b71-e53a-18a394db7b93"
      },
      "outputs": [
        {
          "name": "stdout",
          "output_type": "stream",
          "text": [
            "[\"{'a'\", \" [1,1,1,2,3], 'b'\", '[2,2,3,4,5]}']\n",
            "[' [1', '1', '1', '2', '3]', \" 'b'\"]\n",
            " 'b' [' [1', '1', '1', '2', '3]']\n"
          ]
        }
      ],
      "source": [
        "k = []\n",
        "ls = []\n",
        "d = \"{'a': [1,1,1,2,3], 'b':[2,2,3,4,5]}\"\n",
        "f = d.split(':')\n",
        "k.append(f[0])\n",
        "print(f)\n",
        "v=f[1].split(',')\n",
        "print(v)\n",
        "k.append(v[-1])\n",
        "ls.append(v[:-1])\n",
        "\n",
        "print(k[1], ls[0])\n"
      ]
    },
    {
      "cell_type": "code",
      "execution_count": null,
      "metadata": {
        "colab": {
          "base_uri": "https://localhost:8080/"
        },
        "id": "5wK2yAcLQQ-O",
        "outputId": "8139c7bb-f2ac-4ea1-e0e4-a691a071ee94"
      },
      "outputs": [
        {
          "name": "stdout",
          "output_type": "stream",
          "text": [
            "Min =  0  Max =  112\n"
          ]
        }
      ],
      "source": [
        "# input: ls = integer list\n",
        "# output: min, max\n",
        "\n",
        "ls = [4, 1, -3, 6, 98, -112, 98, 34]\n",
        "\n",
        "max = min = 0\n",
        "\n",
        "for item in ls:\n",
        "  if item < min:\n",
        "    min = item\n",
        "  elif item > max:\n",
        "    max = item\n",
        "\n",
        "print('Min = ', min, ' Max = ', max)"
      ]
    },
    {
      "cell_type": "code",
      "execution_count": null,
      "metadata": {
        "colab": {
          "base_uri": "https://localhost:8080/"
        },
        "id": "__JSqYiUR9NW",
        "outputId": "2556f667-71f2-4819-b5da-f736314a1c85"
      },
      "outputs": [
        {
          "name": "stdout",
          "output_type": "stream",
          "text": [
            "integer? 1000\n",
            "[1, 4, 6, 7, 100, 120, 1000]\n"
          ]
        }
      ],
      "source": [
        "# Insert into sorted list\n",
        "ls = [1,4,6,7,100,120]\n",
        "data = int(input('integer? '))\n",
        "new_list = []\n",
        "for i in range(len(ls)):\n",
        "  if data < ls[i]:\n",
        "    new_list = ls[:i]\n",
        "    new_list.append(data)\n",
        "    new_list.extend(ls[i:])\n",
        "    break\n",
        "\n",
        "if data > ls[i]:\n",
        "  new_list = ls\n",
        "  new_list.append(data)\n",
        "\n",
        "print(new_list)"
      ]
    },
    {
      "cell_type": "code",
      "execution_count": null,
      "metadata": {
        "colab": {
          "base_uri": "https://localhost:8080/"
        },
        "id": "jK-JOyXzVgbS",
        "outputId": "7f5265c4-2104-43f0-b59c-6df3d1caa563"
      },
      "outputs": [
        {
          "name": "stdout",
          "output_type": "stream",
          "text": [
            "[100, 50, 98, 1]\n"
          ]
        }
      ],
      "source": [
        "# List deduplication\n",
        "\n",
        "ls = [100, 50, 98, 100, 1, 1, 50, 50]\n",
        "new_list = []\n",
        "\n",
        "for item in ls:\n",
        "  if item not in new_list:\n",
        "    new_list.append(item)\n",
        "\n",
        "print(new_list)"
      ]
    },
    {
      "cell_type": "code",
      "execution_count": null,
      "metadata": {
        "colab": {
          "base_uri": "https://localhost:8080/"
        },
        "id": "d6WXJvS5XY08",
        "outputId": "cda89a6a-1e49-4c82-b659-a3915a947af8"
      },
      "outputs": [
        {
          "name": "stdout",
          "output_type": "stream",
          "text": [
            "MemTotal:       13290460 kB\n",
            "\n",
            "MemFree:         8606940 kB\n",
            "\n",
            "MemAvailable:   12026128 kB\n",
            "\n",
            "Buffers:          418264 kB\n",
            "\n",
            "Cached:          3141348 kB\n",
            "\n",
            "SwapCached:            0 kB\n",
            "\n",
            "Active:           787092 kB\n",
            "\n",
            "Inactive:        3556356 kB\n",
            "\n",
            "Active(anon):       1520 kB\n",
            "\n",
            "Inactive(anon):   784468 kB\n",
            "\n",
            "Active(file):     785572 kB\n",
            "\n",
            "Inactive(file):  2771888 kB\n",
            "\n",
            "Unevictable:           8 kB\n",
            "\n",
            "Mlocked:               8 kB\n",
            "\n",
            "SwapTotal:             0 kB\n",
            "\n",
            "SwapFree:              0 kB\n",
            "\n",
            "Dirty:               240 kB\n",
            "\n",
            "Writeback:             0 kB\n",
            "\n",
            "AnonPages:        783816 kB\n",
            "\n",
            "Mapped:           350992 kB\n",
            "\n",
            "Shmem:              2144 kB\n",
            "\n",
            "KReclaimable:     187132 kB\n",
            "\n",
            "Slab:             231696 kB\n",
            "\n",
            "SReclaimable:     187132 kB\n",
            "\n",
            "SUnreclaim:        44564 kB\n",
            "\n",
            "KernelStack:        6044 kB\n",
            "\n",
            "PageTables:        13716 kB\n",
            "\n",
            "SecPageTables:         0 kB\n",
            "\n",
            "NFS_Unstable:          0 kB\n",
            "\n",
            "Bounce:                0 kB\n",
            "\n",
            "WritebackTmp:          0 kB\n",
            "\n",
            "CommitLimit:     6645228 kB\n",
            "\n",
            "Committed_AS:    3082976 kB\n",
            "\n",
            "VmallocTotal:   34359738367 kB\n",
            "\n",
            "VmallocUsed:       12384 kB\n",
            "\n",
            "VmallocChunk:          0 kB\n",
            "\n",
            "Percpu:             1120 kB\n",
            "\n",
            "HardwareCorrupted:     0 kB\n",
            "\n",
            "AnonHugePages:         0 kB\n",
            "\n",
            "ShmemHugePages:        0 kB\n",
            "\n",
            "ShmemPmdMapped:        0 kB\n",
            "\n",
            "FileHugePages:         0 kB\n",
            "\n",
            "FilePmdMapped:         0 kB\n",
            "\n",
            "CmaTotal:              0 kB\n",
            "\n",
            "CmaFree:               0 kB\n",
            "\n",
            "Unaccepted:            0 kB\n",
            "\n",
            "HugePages_Total:       0\n",
            "\n",
            "HugePages_Free:        0\n",
            "\n",
            "HugePages_Rsvd:        0\n",
            "\n",
            "HugePages_Surp:        0\n",
            "\n",
            "Hugepagesize:       2048 kB\n",
            "\n",
            "Hugetlb:               0 kB\n",
            "\n",
            "DirectMap4k:       66360 kB\n",
            "\n",
            "DirectMap2M:     6221824 kB\n",
            "\n",
            "DirectMap1G:     9437184 kB\n",
            "\n"
          ]
        }
      ],
      "source": [
        "f = open('/proc/meminfo','rt')\n",
        "\n",
        "#buf = f.read(100)\n",
        "#print(buf)\n",
        "#buf = f.read(50)\n",
        "#print(buf)\n",
        "#line = f.readline() #reads one (next) line\n",
        "#print(line)\n",
        "\n",
        "for l in f:  #iterates line by line\n",
        "  print(l)\n",
        "\n",
        "lines = f.readlines() #reads all lines\n",
        "\n",
        "for l in lines:\n",
        "  print(l)\n",
        "\n",
        "f.close()"
      ]
    },
    {
      "cell_type": "code",
      "execution_count": null,
      "metadata": {
        "id": "y6hwFEn4dVL-"
      },
      "outputs": [],
      "source": [
        "fsrc = open('/proc/meminfo','rt')\n",
        "fdst = open('myfile1.txt','wt')\n",
        "\n",
        "no = 0\n",
        "for l in fsrc:\n",
        "  no += 1\n",
        "  l = \"{}:{}\".format(no,l)\n",
        "  fdst.writelines(l)\n",
        "\n",
        "fsrc.close()\n",
        "fdst.close()\n",
        "\n"
      ]
    },
    {
      "cell_type": "code",
      "execution_count": null,
      "metadata": {
        "colab": {
          "base_uri": "https://localhost:8080/"
        },
        "id": "z470m41_rnCL",
        "outputId": "5489fcd5-31c3-4bbc-c856-3a5e35f7ed58"
      },
      "outputs": [
        {
          "name": "stdout",
          "output_type": "stream",
          "text": [
            "3.333\n"
          ]
        }
      ],
      "source": [
        "print(float('{:.3f}'.format(10/3)))"
      ]
    },
    {
      "cell_type": "code",
      "execution_count": null,
      "metadata": {
        "collapsed": true,
        "id": "_rCvjUkbep2C"
      },
      "outputs": [],
      "source": [
        "fsrc = open('sample_data/README.md','rt')\n",
        "fdst = open('myfile1.txt','at')\n",
        "\n",
        "for l in fsrc:\n",
        "  fdst.writelines(l)\n",
        "\n",
        "fsrc.close()\n",
        "fdst.close()\n"
      ]
    },
    {
      "cell_type": "code",
      "execution_count": null,
      "metadata": {
        "colab": {
          "base_uri": "https://localhost:8080/"
        },
        "id": "7jqTj6sReMjW",
        "outputId": "f3324263-0560-4751-dc9b-0ee6c07c9cba"
      },
      "outputs": [
        {
          "name": "stdout",
          "output_type": "stream",
          "text": [
            "1:MemTotal:       13290452 kB\n",
            "2:MemFree:         8559740 kB\n",
            "3:MemAvailable:   11984900 kB\n",
            "4:Buffers:          418916 kB\n",
            "5:Cached:          3149992 kB\n",
            "6:SwapCached:            0 kB\n",
            "7:Active:           787252 kB\n",
            "8:Inactive:        3604412 kB\n",
            "9:Active(anon):       1520 kB\n",
            "10:Inactive(anon):   823524 kB\n",
            "11:Active(file):     785732 kB\n",
            "12:Inactive(file):  2780888 kB\n",
            "13:Unevictable:           8 kB\n",
            "14:Mlocked:               8 kB\n",
            "15:SwapTotal:             0 kB\n",
            "16:SwapFree:              0 kB\n",
            "17:Dirty:               516 kB\n",
            "18:Writeback:             0 kB\n",
            "19:AnonPages:        822784 kB\n",
            "20:Mapped:           315216 kB\n",
            "21:Shmem:              2280 kB\n",
            "22:KReclaimable:     184108 kB\n",
            "23:Slab:             228708 kB\n",
            "24:SReclaimable:     184108 kB\n",
            "25:SUnreclaim:        44600 kB\n",
            "26:KernelStack:        5856 kB\n",
            "27:PageTables:        13752 kB\n",
            "28:SecPageTables:         0 kB\n",
            "29:NFS_Unstable:          0 kB\n",
            "30:Bounce:                0 kB\n",
            "31:WritebackTmp:          0 kB\n",
            "32:CommitLimit:     6645224 kB\n",
            "33:Committed_AS:    2994684 kB\n",
            "34:VmallocTotal:   34359738367 kB\n",
            "35:VmallocUsed:       12192 kB\n",
            "36:VmallocChunk:          0 kB\n",
            "37:Percpu:             1144 kB\n",
            "38:HardwareCorrupted:     0 kB\n",
            "39:AnonHugePages:         0 kB\n",
            "40:ShmemHugePages:        0 kB\n",
            "41:ShmemPmdMapped:        0 kB\n",
            "42:FileHugePages:         0 kB\n",
            "43:FilePmdMapped:         0 kB\n",
            "44:CmaTotal:              0 kB\n",
            "45:CmaFree:               0 kB\n",
            "46:Unaccepted:            0 kB\n",
            "47:HugePages_Total:       0\n",
            "48:HugePages_Free:        0\n",
            "49:HugePages_Rsvd:        0\n",
            "50:HugePages_Surp:        0\n",
            "51:Hugepagesize:       2048 kB\n",
            "52:Hugetlb:               0 kB\n",
            "53:DirectMap4k:       70456 kB\n",
            "54:DirectMap2M:     5169152 kB\n",
            "55:DirectMap1G:    10485760 kB\n",
            "This directory includes a few sample datasets to get you started.\n",
            "\n",
            "*   `california_housing_data*.csv` is California housing data from the 1990 US\n",
            "    Census; more information is available at:\n",
            "    https://docs.google.com/document/d/e/2PACX-1vRhYtsvc5eOR2FWNCwaBiKL6suIOrxJig8LcSBbmCbyYsayia_DvPOOBlXZ4CAlQ5nlDD8kTaIDRwrN/pub\n",
            "\n",
            "*   `mnist_*.csv` is a small sample of the\n",
            "    [MNIST database](https://en.wikipedia.org/wiki/MNIST_database), which is\n",
            "    described at: http://yann.lecun.com/exdb/mnist/\n",
            "\n",
            "*   `anscombe.json` contains a copy of\n",
            "    [Anscombe's quartet](https://en.wikipedia.org/wiki/Anscombe%27s_quartet); it\n",
            "    was originally described in\n",
            "\n",
            "    Anscombe, F. J. (1973). 'Graphs in Statistical Analysis'. American\n",
            "    Statistician. 27 (1): 17-21. JSTOR 2682899.\n",
            "\n",
            "    and our copy was prepared by the\n",
            "    [vega_datasets library](https://github.com/altair-viz/vega_datasets/blob/4f67bdaad10f45e3549984e17e1b3088c731503d/vega_datasets/_data/anscombe.json).\n"
          ]
        }
      ],
      "source": [
        "!cat myfile1.txt\n"
      ]
    },
    {
      "cell_type": "code",
      "execution_count": null,
      "metadata": {
        "id": "70xxpYepgv4J"
      },
      "outputs": [],
      "source": [
        "f = open('myfile1.txt','wt')\n",
        "f.close()"
      ]
    },
    {
      "cell_type": "code",
      "execution_count": null,
      "metadata": {
        "colab": {
          "base_uri": "https://localhost:8080/"
        },
        "id": "MNw7KvkWg4Ec",
        "outputId": "2495c219-ddcd-48c5-8daf-5c591acd58cd"
      },
      "outputs": [
        {
          "name": "stdout",
          "output_type": "stream",
          "text": [
            "MemTotal:       13290452 kB\n",
            "MemFree:         7343032 kB\n",
            "MemAvailable:   12043820 kB\n",
            "Buffers:          415720 kB\n",
            "Cached:          4420424 kB\n",
            "SwapCached:            0 kB\n",
            "Active:           714840 kB\n",
            "Inactive:        4881536 kB\n",
            "Active(anon):       1288 kB\n",
            "Inactive(anon):   760632 kB\n",
            "Active(file):     713552 kB\n",
            "Inactive(file):  4120904 kB\n",
            "Unevictable:           8 kB\n",
            "Mlocked:               8 kB\n",
            "SwapTotal:             0 kB\n",
            "SwapFree:              0 kB\n",
            "Dirty:               420 kB\n",
            "Writeback:             0 kB\n",
            "AnonPages:        760292 kB\n",
            "Mapped:           314376 kB\n",
            "Shmem:              1680 kB\n",
            "KReclaimable:     191900 kB\n",
            "Slab:             236608 kB\n",
            "SReclaimable:     191900 kB\n",
            "SUnreclaim:        44708 kB\n",
            "KernelStack:        5824 kB\n",
            "PageTables:        13500 kB\n",
            "SecPageTables:         0 kB\n",
            "NFS_Unstable:          0 kB\n",
            "Bounce:                0 kB\n",
            "WritebackTmp:          0 kB\n",
            "CommitLimit:     6645224 kB\n",
            "Committed_AS:    2977500 kB\n",
            "VmallocTotal:   34359738367 kB\n",
            "VmallocUsed:       12144 kB\n",
            "VmallocChunk:          0 kB\n",
            "Percpu:             1144 kB\n",
            "HardwareCorrupted:     0 kB\n",
            "AnonHugePages:         0 kB\n",
            "ShmemHugePages:        0 kB\n",
            "ShmemPmdMapped:        0 kB\n",
            "FileHugePages:         0 kB\n",
            "FilePmdMapped:         0 kB\n",
            "CmaTotal:              0 kB\n",
            "CmaFree:               0 kB\n",
            "Unaccepted:            0 kB\n",
            "HugePages_Total:       0\n",
            "HugePages_Free:        0\n",
            "HugePages_Rsvd:        0\n",
            "HugePages_Surp:        0\n",
            "Hugepagesize:       2048 kB\n",
            "Hugetlb:               0 kB\n",
            "DirectMap4k:       70456 kB\n",
            "DirectMap2M:     5169152 kB\n",
            "DirectMap1G:    10485760 kB\n"
          ]
        }
      ],
      "source": [
        "!cat myfile1.txt"
      ]
    },
    {
      "cell_type": "markdown",
      "metadata": {
        "id": "BLZdceyxhWND"
      },
      "source": [
        "Guess with logs written into a file"
      ]
    },
    {
      "cell_type": "code",
      "execution_count": null,
      "metadata": {
        "colab": {
          "background_save": true,
          "base_uri": "https://localhost:8080/"
        },
        "id": "Hk-5fGvdhZtk",
        "outputId": "b29547a3-f3bf-444c-e2a2-8a5b70b70737"
      },
      "outputs": [
        {
          "name": "stdout",
          "output_type": "stream",
          "text": [
            "Too Large!\n",
            "Too small!\n",
            "Too small!\n",
            "Too small!\n"
          ]
        },
        {
          "ename": "KeyboardInterrupt",
          "evalue": "Interrupted by user",
          "output_type": "error",
          "traceback": [
            "\u001b[0;31m---------------------------------------------------------------------------\u001b[0m",
            "\u001b[0;31mKeyboardInterrupt\u001b[0m                         Traceback (most recent call last)",
            "\u001b[0;32m<ipython-input-28-47a295bd89fb>\u001b[0m in \u001b[0;36m<cell line: 17>\u001b[0;34m()\u001b[0m\n\u001b[1;32m     23\u001b[0m   \u001b[0;32melse\u001b[0m\u001b[0;34m:\u001b[0m\u001b[0;34m\u001b[0m\u001b[0;34m\u001b[0m\u001b[0m\n\u001b[1;32m     24\u001b[0m     \u001b[0mprint\u001b[0m\u001b[0;34m(\u001b[0m\u001b[0;34m'Too small!'\u001b[0m\u001b[0;34m)\u001b[0m\u001b[0;34m\u001b[0m\u001b[0;34m\u001b[0m\u001b[0m\n\u001b[0;32m---> 25\u001b[0;31m   \u001b[0mguess\u001b[0m \u001b[0;34m=\u001b[0m \u001b[0minput\u001b[0m\u001b[0;34m(\u001b[0m\u001b[0;34m'Next guess please? '\u001b[0m\u001b[0;34m)\u001b[0m\u001b[0;34m\u001b[0m\u001b[0;34m\u001b[0m\u001b[0m\n\u001b[0m\u001b[1;32m     26\u001b[0m   \u001b[0mguess\u001b[0m \u001b[0;34m=\u001b[0m \u001b[0mint\u001b[0m\u001b[0;34m(\u001b[0m\u001b[0mguess\u001b[0m\u001b[0;34m)\u001b[0m\u001b[0;34m\u001b[0m\u001b[0;34m\u001b[0m\u001b[0m\n\u001b[1;32m     27\u001b[0m   \u001b[0mround\u001b[0m \u001b[0;34m+=\u001b[0m \u001b[0;36m1\u001b[0m\u001b[0;34m\u001b[0m\u001b[0;34m\u001b[0m\u001b[0m\n",
            "\u001b[0;32m/usr/local/lib/python3.10/dist-packages/ipykernel/kernelbase.py\u001b[0m in \u001b[0;36mraw_input\u001b[0;34m(self, prompt)\u001b[0m\n\u001b[1;32m    849\u001b[0m                 \u001b[0;34m\"raw_input was called, but this frontend does not support input requests.\"\u001b[0m\u001b[0;34m\u001b[0m\u001b[0;34m\u001b[0m\u001b[0m\n\u001b[1;32m    850\u001b[0m             )\n\u001b[0;32m--> 851\u001b[0;31m         return self._input_request(str(prompt),\n\u001b[0m\u001b[1;32m    852\u001b[0m             \u001b[0mself\u001b[0m\u001b[0;34m.\u001b[0m\u001b[0m_parent_ident\u001b[0m\u001b[0;34m,\u001b[0m\u001b[0;34m\u001b[0m\u001b[0;34m\u001b[0m\u001b[0m\n\u001b[1;32m    853\u001b[0m             \u001b[0mself\u001b[0m\u001b[0;34m.\u001b[0m\u001b[0m_parent_header\u001b[0m\u001b[0;34m,\u001b[0m\u001b[0;34m\u001b[0m\u001b[0;34m\u001b[0m\u001b[0m\n",
            "\u001b[0;32m/usr/local/lib/python3.10/dist-packages/ipykernel/kernelbase.py\u001b[0m in \u001b[0;36m_input_request\u001b[0;34m(self, prompt, ident, parent, password)\u001b[0m\n\u001b[1;32m    893\u001b[0m             \u001b[0;32mexcept\u001b[0m \u001b[0mKeyboardInterrupt\u001b[0m\u001b[0;34m:\u001b[0m\u001b[0;34m\u001b[0m\u001b[0;34m\u001b[0m\u001b[0m\n\u001b[1;32m    894\u001b[0m                 \u001b[0;31m# re-raise KeyboardInterrupt, to truncate traceback\u001b[0m\u001b[0;34m\u001b[0m\u001b[0;34m\u001b[0m\u001b[0m\n\u001b[0;32m--> 895\u001b[0;31m                 \u001b[0;32mraise\u001b[0m \u001b[0mKeyboardInterrupt\u001b[0m\u001b[0;34m(\u001b[0m\u001b[0;34m\"Interrupted by user\"\u001b[0m\u001b[0;34m)\u001b[0m \u001b[0;32mfrom\u001b[0m \u001b[0;32mNone\u001b[0m\u001b[0;34m\u001b[0m\u001b[0;34m\u001b[0m\u001b[0m\n\u001b[0m\u001b[1;32m    896\u001b[0m             \u001b[0;32mexcept\u001b[0m \u001b[0mException\u001b[0m \u001b[0;32mas\u001b[0m \u001b[0me\u001b[0m\u001b[0;34m:\u001b[0m\u001b[0;34m\u001b[0m\u001b[0;34m\u001b[0m\u001b[0m\n\u001b[1;32m    897\u001b[0m                 \u001b[0mself\u001b[0m\u001b[0;34m.\u001b[0m\u001b[0mlog\u001b[0m\u001b[0;34m.\u001b[0m\u001b[0mwarning\u001b[0m\u001b[0;34m(\u001b[0m\u001b[0;34m\"Invalid Message:\"\u001b[0m\u001b[0;34m,\u001b[0m \u001b[0mexc_info\u001b[0m\u001b[0;34m=\u001b[0m\u001b[0;32mTrue\u001b[0m\u001b[0;34m)\u001b[0m\u001b[0;34m\u001b[0m\u001b[0;34m\u001b[0m\u001b[0m\n",
            "\u001b[0;31mKeyboardInterrupt\u001b[0m: Interrupted by user"
          ]
        }
      ],
      "source": [
        "import random\n",
        "\n",
        "flog = open('guess.log','wt')\n",
        "\n",
        "# Pick a random number\n",
        "num = random.randrange(1,1000)\n",
        "flog.write(\"Secret number picked is {}\\n\".format(num))\n",
        "\n",
        "MaxRounds = 4\n",
        "# Enter first guess\n",
        "guess = input('First guess please? ')\n",
        "guess = int(guess)\n",
        "\n",
        "round = 1\n",
        "flog.write(\"Guess #{} = {}\\n\".format(round,guess))\n",
        "\n",
        "while guess != num:\n",
        "  if round > MaxRounds:\n",
        "    print('You tried all your chances :( :(')\n",
        "    break\n",
        "  if guess > num:\n",
        "    print('Too Large!')\n",
        "  else:\n",
        "    print('Too small!')\n",
        "  guess = input('Next guess please? ')\n",
        "  guess = int(guess)\n",
        "  round += 1\n",
        "  flog.write(\"Guess #{} = {}\\n\".format(round,guess))\n",
        "else:\n",
        "  print('!!You Won!!')\n",
        "  flog.write('Correct guess\\n')\n",
        "\n",
        "flog.close()"
      ]
    },
    {
      "cell_type": "code",
      "execution_count": null,
      "metadata": {
        "colab": {
          "base_uri": "https://localhost:8080/"
        },
        "id": "YMyjmjn9ihmv",
        "outputId": "29e6e1b5-4184-4793-d7f3-4bffb418a573"
      },
      "outputs": [
        {
          "name": "stdout",
          "output_type": "stream",
          "text": [
            "Secret number picked is 228\n",
            "Guess #1 = 750\n",
            "Guess #2 = 250\n",
            "Guess #3 = 125\n",
            "Guess #4 = 170\n",
            "Guess #5 = 230\n"
          ]
        }
      ],
      "source": [
        "!cat guess.log"
      ]
    },
    {
      "cell_type": "code",
      "execution_count": null,
      "metadata": {
        "id": "48CD0jxSixU5"
      },
      "outputs": [],
      "source": [
        "f = open('/var/log/bootstrap.log','rt')\n",
        "\n",
        "for l in f:\n",
        "  idx = l.find('fdisk')\n",
        "  if idx >= 0:\n",
        "    print(idx, l)\n",
        "\n",
        "f.close()"
      ]
    },
    {
      "cell_type": "code",
      "execution_count": null,
      "metadata": {
        "colab": {
          "base_uri": "https://localhost:8080/"
        },
        "id": "lWWik1Gsl-4Q",
        "outputId": "389e4211-650c-459b-8f2b-db61cf5acc04"
      },
      "outputs": [
        {
          "name": "stdout",
          "output_type": "stream",
          "text": [
            "guess.log  myfile1.txt\tsample_data\n"
          ]
        }
      ],
      "source": [
        "!ls\n"
      ]
    },
    {
      "cell_type": "code",
      "execution_count": null,
      "metadata": {
        "colab": {
          "base_uri": "https://localhost:8080/"
        },
        "id": "XxyD4loFmED_",
        "outputId": "4f15e241-4175-4bef-8451-e97057639d39"
      },
      "outputs": [
        {
          "name": "stdout",
          "output_type": "stream",
          "text": [
            "Secret number picked is 228\n",
            "Guess #1 = 750\n",
            "Guess #2 = 250\n",
            "Guess #3 = 125\n",
            "Guess #4 = 170\n",
            "Guess #5 = 230\n"
          ]
        }
      ],
      "source": [
        "!cat guess.log"
      ]
    },
    {
      "cell_type": "code",
      "execution_count": null,
      "metadata": {
        "id": "zAR3MRDOYp1_"
      },
      "outputs": [],
      "source": [
        "import urllib.request\n",
        "#contents = urllib.request.urlopen(\"https://www.kernel.org/doc/Documentation/networking/filter.txt\").read()\n",
        "contents = urllib.request.urlopen(\"https://gist.githubusercontent.com/phillipj/4944029/raw/75ba2243dd5ec2875f629bf5d79f6c1e4b5a8b46/alice_in_wonderland.txt\").read()\n",
        "#print(type(contents))\n",
        "contents = contents.decode('utf-8') # convery byte array to utf-8 (ascii) string\n",
        "#print(type(contents))\n",
        "f = open('alice.txt','wt')\n",
        "f.writelines(contents)\n",
        "f.close()\n",
        "\n",
        "fsara = open('sara.txt','wt')\n",
        "falice = open('alice.txt','rt')\n",
        "for l in falice:\n",
        "  newl = l.replace('Alice','Sara')\n",
        "  fsara.write(newl)\n",
        "fsara.close()\n",
        "falice.close()\n",
        "\n",
        "falice = open('alice.txt','rt')\n",
        "char = falice.read(1)\n",
        "while char:\n",
        "  if char == '.' or char == '?' or char == '!':\n",
        "    while char:\n",
        "      char = falice.read(1)\n",
        "      if (ord(char) >=65 and ord(char) <=90) or (ord(char) >=97 and ord(char) <=122):\n",
        "        break\n",
        "    if char.upper() != char:\n",
        "      print('capitalization error at begining of new sentence:')\n",
        "      err_line = char+falice.read(20)\n",
        "      print(err_line)\n",
        "  char = falice.read(1)\n",
        "falice.close()\n",
        "\n"
      ]
    },
    {
      "cell_type": "code",
      "execution_count": null,
      "metadata": {
        "colab": {
          "base_uri": "https://localhost:8080/"
        },
        "id": "SE6dbd0wigPM",
        "outputId": "5af8cc9e-02c8-47de-a4c9-96698823fa53"
      },
      "outputs": [
        {
          "name": "stdout",
          "output_type": "stream",
          "text": [
            "{'Alice': 396, 'Adventures': 3, 'Wonderland': 3, 'ALICE': 3, 'S': 7, 'ADVENTURES': 1, 'IN': 2, 'WONDERLAND': 1, 'Lewis': 1, 'Carroll': 1, 'THE': 9, 'MILLENNIUM': 1, 'FULCRUM': 1, 'EDITION': 1, 'CHAPTER': 12, 'I': 545, 'Down': 3, 'Rabbit': 45, 'Hole': 1, 'So': 27, 'White': 22, 'There': 33, 'VERY': 13, 'Oh': 35, 'TOOK': 1, 'A': 17, 'WATCH': 1, 'OUT': 1, 'OF': 3, 'ITS': 1, 'WAISTCOAT': 1, 'POCKET': 1, 'In': 11, 'The': 108, 'Either': 1, 'First': 7, 'She': 39, 'ORANGE': 1, 'MARMALADE': 1, 'Well': 23, 'How': 27, 'Why': 27, 'Which': 8, 'Would': 8, 'NEVER': 2, 'Let': 11, 'Latitude': 2, 'Longitude': 2, 'Presently': 2, 'THROUGH': 1, 'Antipathies': 1, 'WAS': 4, 'Please': 5, 'Ma': 2, 'New': 1, 'Zealand': 1, 'Australia': 1, 'CURTSEYING': 1, 'Do': 13, 'And': 67, 'No': 20, 'Dinah': 14, 'But': 37, 'Now': 12, 'Suddenly': 1, 'However': 13, 'For': 13, 'DRINK': 2, 'ME': 7, 'It': 64, 'Drink': 1, 'THAT': 13, 'WOULD': 5, 'NOT': 7, 'What': 42, 'After': 6, 'Come': 21, 'ONE': 4, 'Soon': 1, 'EAT': 1, 'II': 1, 'Pool': 1, 'Tears': 1, 'Curiouser': 1, 'English': 6, 'Good': 1, 'Christmas': 1, 'They': 21, 'RIGHT': 1, 'FOOT': 1, 'ESQ': 1, 'HEARTHRUG': 1, 'NEAR': 1, 'FENDER': 1, 'WITH': 1, 'LOVE': 1, 'Just': 7, 'Poor': 2, 'You': 51, 'Stop': 1, 'Duchess': 42, 'If': 16, 'Dear': 1, 'Who': 15, 'Ah': 5, 'Ada': 1, 'Mabel': 4, 'Besides': 1, 'SHE': 5, 'Multiplication': 1, 'Table': 1, 'Geography': 1, 'London': 1, 'Paris': 2, 'Rome': 2, 'Improve': 1, 'Nile': 1, 'On': 4, 'With': 4, 'Tell': 5, 'As': 17, 'CAN': 4, 'That': 27, 'Her': 3, 'WILL': 3, 'Everything': 2, 'O': 3, 'Mouse': 30, 'Latin': 1, 'Grammar': 1, 'Perhaps': 3, 'French': 4, 'William': 6, 'Conqueror': 2, 'Ou': 1, 'Not': 9, 'YOU': 15, 'We': 10, 'Our': 1, 'HATED': 1, 'Don': 9, 'Are': 4, 'He': 20, 'When': 10, 'Duck': 3, 'Dodo': 13, 'Lory': 7, 'Eaglet': 3, 'III': 1, 'Caucus': 3, 'Race': 1, 'Long': 1, 'Tale': 1, 'Indeed': 1, 'At': 9, 'Sit': 1, 'LL': 1, 'Ahem': 1, 'This': 17, 'Silence': 3, 'Edwin': 2, 'Morcar': 2, 'Mercia': 2, 'Northumbria': 2, 'Ugh': 2, 'Did': 3, 'Stigand': 1, 'Canterbury': 1, 'Found': 2, 'WHAT': 6, 'IT': 4, 'Edgar': 1, 'Atheling': 1, 'Normans': 1, 'Speak': 2, 'IS': 8, 'SOMEBODY': 1, 'One': 6, 'Shakespeare': 1, 'EVERYBODY': 1, 'Prizes': 2, 'Of': 11, 'Only': 3, 'Hand': 1, 'Then': 21, 'C': 1, 'D': 2, 'Mine': 1, 'Fury': 2, 'Said': 4, 'Such': 1, 'Sir': 1, 'Yes': 12, 'Crab': 2, 'YOUR': 7, 'Hold': 4, 'Some': 2, 'Magpie': 1, 'Canary': 1, 'Nobody': 3, 'IV': 1, 'Sends': 1, 'Little': 1, 'Bill': 16, 'Where': 5, 'Very': 5, 'Mary': 4, 'Ann': 4, 'ARE': 6, 'Run': 1, 'Quick': 1, 'W': 1, 'RABBIT': 1, 'Miss': 3, 'Coming': 1, 'By': 4, 'SOMETHING': 1, 'Alas': 1, 'Still': 1, 'Luckily': 1, 'HERE': 1, 'Fetch': 1, 'Next': 2, 'Pat': 3, 'Sure': 4, 'Digging': 2, 'Here': 11, 'THIS': 4, 'Sounds': 1, 'An': 5, 'TWO': 2, 'COULD': 4, 'Will': 6, 'Mind': 2, 'Heads': 1, 'Nay': 1, 'Shy': 1, 'THINK': 3, 'Catch': 1, 'Brandy': 1, 'Last': 1, 'Jack': 1, 'SOME': 1, 'Lizard': 6, 'Hardly': 1, 'V': 1, 'Advice': 1, 'Caterpillar': 27, 'Explain': 2, 'MYSELF': 1, 'Keep': 2, 'Is': 3, 'Can': 2, 'HOW': 1, 'DOTH': 1, 'LITTLE': 2, 'BUSY': 1, 'BEE': 1, 'Repeat': 1, 'OLD': 2, 'FATHER': 2, 'WILLIAM': 2, 'Father': 2, 'Yet': 3, 'Pray': 3, 'Allow': 1, 'Has': 1, 'Be': 2, 'QUITE': 2, 'DON': 1, 'T': 2, 'HAVE': 4, 'Serpent': 3, 'Pigeon': 11, 'YOURS': 1, 'Whoever': 1, 'VI': 1, 'Pig': 2, 'Pepper': 2, 'Fish': 2, 'Footman': 11, 'Queen': 74, 'Frog': 1, 'From': 1, 'INSIDE': 1, 'Anything': 1, 'Even': 1, 'Cheshire': 7, 'While': 5, 'PLEASE': 1, 'PRECIOUS': 1, 'Talking': 1, 'Twenty': 1, 'Because': 1, 'CHORUS': 2, 'Wow': 2, 'IF': 2, 'NO': 1, 'Cat': 26, 'Puss': 1, 'SOMEWHERE': 1, 'Hatter': 55, 'March': 34, 'Hare': 31, 'Visit': 1, 'To': 1, 'Therefore': 1, 'Call': 4, 'May': 2, 'All': 5, 'Suppose': 2, 'VII': 1, 'Mad': 1, 'Tea': 1, 'Party': 1, 'Dormouse': 40, 'PLENTY': 1, 'Have': 3, 'Your': 2, 'SAID': 2, 'Exactly': 3, 'Two': 6, 'BEST': 2, 'Does': 2, 'MINE': 2, 'Nor': 1, 'Time': 3, 'HIM': 3, 'Half': 1, 'HE': 4, 'Hearts': 6, 'Twinkle': 3, 'Up': 2, 'Like': 1, 'Off': 11, 'Wake': 2, 'Once': 3, 'Elsie': 1, 'Lacie': 1, 'Tillie': 1, 'Take': 4, 'LESS': 1, 'MORE': 2, 'Sh': 1, 'Treacle': 2, 'M': 5, 'Really': 2, 'THERE': 1, 'THEN': 1, 'VIII': 1, 'Croquet': 1, 'Ground': 1, 'Look': 1, 'Five': 7, 'Seven': 5, 'Always': 1, 'RED': 1, 'Kings': 1, 'Queens': 1, 'Knave': 9, 'King': 61, 'KING': 1, 'AND': 3, 'QUEEN': 1, 'HEARTS': 1, 'Idiot': 1, 'My': 3, 'Majesty': 12, 'THESE': 1, 'Nonsense': 1, 'Consider': 3, 'Turn': 3, 'Get': 2, 'Leave': 1, 'Their': 1, 'Hush': 2, 'HIS': 1, 'HER': 2, 'IX': 1, 'Mock': 56, 'Turtle': 59, 'Story': 1, 'AT': 1, 'ALL': 4, 'Soup': 13, 'Maybe': 1, 'Tut': 1, 'Tis': 2, 'Somebody': 1, 'Shall': 2, 'Birds': 1, 'Right': 1, 'Never': 4, 'Thinking': 1, 'Those': 1, 'Gryphon': 55, 'Everybody': 2, 'EVEN': 1, 'These': 2, 'Hjckrrh': 1, 'Thank': 3, 'MUST': 3, 'Tortoise': 3, 'Drive': 1, 'VE': 1, 'Certainly': 1, 'OURS': 1, 'WASHING': 1, 'Reeling': 1, 'Writhing': 1, 'Arithmetic': 1, 'Ambition': 1, 'Distraction': 1, 'Uglification': 2, 'Derision': 1, 'Mystery': 2, 'Seaography': 1, 'Drawling': 3, 'Stretching': 1, 'Fainting': 1, 'Coils': 1, 'Hadn': 1, 'Classics': 1, 'Laughing': 1, 'Grief': 1, 'Ten': 1, 'X': 1, 'Lobster': 5, 'Quadrille': 4, 'Same': 1, 'Seals': 1, 'Each': 1, 'Swim': 1, 'Change': 1, 'Back': 1, 'See': 1, 'Too': 1, 'England': 1, 'France': 1, 'Dinn': 1, 'DOES': 1, 'BOOTS': 1, 'SHOES': 1, 'Boots': 1, 'Soles': 1, 'Wouldn': 1, 'Stand': 1, 'TIS': 1, 'VOICE': 1, 'SLUGGARD': 1, 'Trims': 1, 'Shark': 1, 'His': 1, 'EVER': 1, 'Go': 3, 'Owl': 3, 'Panther': 3, 'Was': 1, 'Or': 1, 'Hm': 1, 'Sing': 1, 'Beautiful': 5, 'Waiting': 1, 'Beau': 4, 'Soo': 7, 'Game': 1, 'Pennyworth': 2, 'FUL': 1, 'SOUP': 1, 'Chorus': 1, 'XI': 1, 'Stole': 1, 'Tarts': 1, 'Stupid': 1, 'Herald': 1, 'Fourteenth': 1, 'Fifteenth': 1, 'Sixteenth': 1, 'Write': 1, 'Stolen': 1, 'Give': 3, 'Bring': 1, 'SIT': 1, 'Shan': 1, 'Collar': 1, 'Behead': 1, 'Suppress': 1, 'Pinch': 1, 'YET': 1, 'Imagine': 1, 'XII': 1, 'Evidence': 1, 'BEG': 1, 'Nothing': 4, 'WHATEVER': 1, 'UNimportant': 2, 'Rule': 1, 'Forty': 1, 'PERSONS': 1, 'THAN': 1, 'MILE': 1, 'HIGH': 1, 'TO': 3, 'LEAVE': 1, 'COURT': 1, 'Nearly': 1, 'Number': 1, 'OUTSIDE': 1, 'PROVES': 1, 'Read': 1, 'Begin': 1, 'Though': 1, 'Involved': 1, 'Before': 1, 'Him': 1, 'Between': 1, 'SWIM': 1, 'WE': 1, 'KNOW': 1, 'BE': 1, 'TRUE': 1, 'GAVE': 2, 'THEY': 2, 'RETURNED': 1, 'FROM': 1, 'BEFORE': 1, 'HAD': 1, 'FIT': 2, 'Sentence': 1, 'Stuff': 1, 'Lastly': 1, 'THEIR': 1, 'END': 1}\n"
          ]
        }
      ],
      "source": [
        "import urllib.request\n",
        "#contents = urllib.request.urlopen(\"https://www.kernel.org/doc/Documentation/networking/filter.txt\").read()\n",
        "contents = urllib.request.urlopen(\"https://gist.githubusercontent.com/phillipj/4944029/raw/75ba2243dd5ec2875f629bf5d79f6c1e4b5a8b46/alice_in_wonderland.txt\").read()\n",
        "#print(type(contents))\n",
        "contents = contents.decode('utf-8') # convery byte array to utf-8 (ascii) string\n",
        "#print(type(contents))\n",
        "f = open('alice.txt','wt')\n",
        "f.writelines(contents)\n",
        "f.close()\n",
        "\n",
        "f = open('alice.txt','rt')\n",
        "char = ' '\n",
        "word_dict = {}\n",
        "while char:\n",
        "  word = ''\n",
        "  char = f.read(1)\n",
        "  while char and ((ord(char) >=65 and ord(char) <=90) or (ord(char) >=97 and ord(char) <=122)):\n",
        "    word = word + char\n",
        "    char = f.read(1)\n",
        "  if len(word) > 0 and word[0].upper() == word[0]:\n",
        "    if word in word_dict:\n",
        "      word_dict[word] += 1\n",
        "    else:\n",
        "      word_dict[word] = 1\n",
        "\n",
        "print(word_dict)\n",
        "\n",
        "f.close()"
      ]
    },
    {
      "cell_type": "markdown",
      "metadata": {
        "id": "W3bWfEM8q5uQ"
      },
      "source": [
        "**Function Pointers**"
      ]
    },
    {
      "cell_type": "code",
      "execution_count": null,
      "metadata": {
        "id": "9bF8JlVQqE69"
      },
      "outputs": [],
      "source": [
        "def add(x,y):\n",
        "  return x+y\n",
        "\n",
        "def sub(x,y):\n",
        "  return x-y\n",
        "\n",
        "def mult(x,y):\n",
        "  return x*y\n",
        "\n",
        "def div(x,y):\n",
        "  return x/y\n",
        "\n",
        "op = {\n",
        "    'add': add,\n",
        "    'subtract': sub,\n",
        "    'multiply': mult,\n",
        "    'divide': div\n",
        "}\n",
        "\n",
        "s = input('What should I compute? ')\n",
        "# s = 'add 4 and 5', 'subtract 7 from 12', 'multiply 9 by 6', 'divide 8 by 2'\n",
        "str_list = s.split()\n",
        "func = op[str_list[0]]\n",
        "a = float(str_list[1])\n",
        "b = float(str_list[3])\n",
        "\n",
        "res = func(a,b)\n",
        "\n",
        "print('The result is: ',res)\n"
      ]
    },
    {
      "cell_type": "code",
      "execution_count": null,
      "metadata": {
        "colab": {
          "base_uri": "https://localhost:8080/"
        },
        "id": "bDgsyfLhvvB-",
        "outputId": "6eaf0954-2729-4afd-8642-c96000c61bee"
      },
      "outputs": [
        {
          "name": "stdout",
          "output_type": "stream",
          "text": [
            "What should I compute? 5-9+19\n",
            "['+', '5', '-', '9', '+', '19']\n",
            "Result is:  15.0\n"
          ]
        }
      ],
      "source": [
        "s = input('What should I compute? ')  # 3+5-9+34-23\n",
        "s = s.replace(' ','')\n",
        "if s[0] != '-' or s[0] != '+':\n",
        "  s = '+' + s\n",
        "\n",
        "def add(x,y):\n",
        "  return x+y\n",
        "\n",
        "def sub(x,y):\n",
        "  return x-y\n",
        "\n",
        "op = {\n",
        "    '+': add,\n",
        "    '-': sub\n",
        "}\n",
        "\n",
        "s_list = []\n",
        "token = None\n",
        "for ch in s:\n",
        "  if ch == '+' or ch == '-':\n",
        "    if (token):\n",
        "      s_list.append(token)\n",
        "    token = ''\n",
        "    s_list.append(ch)\n",
        "  else:\n",
        "    token = token + ch\n",
        "s_list.append(token)\n",
        "\n",
        "print(s_list)\n",
        "\n",
        "res = 0\n",
        "cur_op = None\n",
        "for tk in s_list:\n",
        "  if tk in op:\n",
        "    cur_op = op[tk]\n",
        "  else:\n",
        "    res = cur_op(res,float(tk))\n",
        "\n",
        "print('Result is: ', res)\n"
      ]
    },
    {
      "cell_type": "code",
      "execution_count": null,
      "metadata": {
        "colab": {
          "base_uri": "https://localhost:8080/"
        },
        "id": "j-ZF_PP3kuKs",
        "outputId": "731e77c3-2a6b-49ff-8d6c-da5c927854d1"
      },
      "outputs": [
        {
          "name": "stdout",
          "output_type": "stream",
          "text": [
            "slabinfo - version: 2.1\n",
            "# name            <active_objs> <num_objs> <objsize> <objperslab> <pagesperslab> : tunables <limit> <batchcount> <sharedfactor> : slabdata <active_slabs> <num_slabs> <sharedavail>\n",
            "ext4_groupinfo_4k   1560   1560    168   24    1 : tunables    0    0    0 : slabdata     65     65      0\n",
            "bio-4                 36     36    640   12    2 : tunables    0    0    0 : slabdata      3      3      0\n",
            "dm_bufio_buffer-4    802    900    160   25    1 : tunables    0    0    0 : slabdata     36     36      0\n",
            "p9_req_t               0      0    168   24    1 : tunables    0    0    0 : slabdata      0      0      0\n",
            "ip6-frags              0      0    208   19    1 : tunables    0    0    0 : slabdata      0      0      0\n",
            "RAWv6                 60     60   1344   12    4 : tunables    0    0    0 : slabdata      5      5      0\n",
            "UDPv6                264    264   1472   22    8 : tunables    0    0    0 : slabdata     12     12      0\n",
            "tw_sock_TCPv6         32     32    248   16    1 : tunables    0    0    0 : slabdata      2      2      0\n",
            "request_sock_TCPv6      0      0    304   13    1 : tunables    0    0    0 : slabdata      0      0      0\n",
            "TCPv6                 48     48   2560   12    8 : tunables    0    0    0 : slabdata      4      4      0\n",
            "nf_conntrack         356    360    320   12    1 : tunables    0    0    0 : slabdata     30     30      0\n",
            "kcopyd_job             0      0   3528    9    8 : tunables    0    0    0 : slabdata      0      0      0\n",
            "scsi_sense_cache    8480   8480    128   32    1 : tunables    0    0    0 : slabdata    265    265      0\n",
            "mqueue_inode_cache     30     30   1088   15    4 : tunables    0    0    0 : slabdata      2      2      0\n",
            "v9fs_inode_cache       0      0    800   20    4 : tunables    0    0    0 : slabdata      0      0      0\n",
            "xfs_dqtrx              0      0    528   15    2 : tunables    0    0    0 : slabdata      0      0      0\n",
            "xfs_buf                0      0    448   18    2 : tunables    0    0    0 : slabdata      0      0      0\n",
            "xfs_bui_item           0      0    216   18    1 : tunables    0    0    0 : slabdata      0      0      0\n",
            "xfs_rui_item           0      0    696   23    4 : tunables    0    0    0 : slabdata      0      0      0\n",
            "xfs_rud_item           0      0    176   23    1 : tunables    0    0    0 : slabdata      0      0      0\n",
            "xfs_inode              0      0   1216   13    4 : tunables    0    0    0 : slabdata      0      0      0\n",
            "xfs_efd_item           0      0    440   18    2 : tunables    0    0    0 : slabdata      0      0      0\n",
            "xfs_da_state           0      0    480   17    2 : tunables    0    0    0 : slabdata      0      0      0\n",
            "xfs_log_ticket         0      0    184   22    1 : tunables    0    0    0 : slabdata      0      0      0\n",
            "ovl_inode          12917  13160    816   20    4 : tunables    0    0    0 : slabdata    658    658      0\n",
            "jbd2_journal_handle    170    170     48   85    1 : tunables    0    0    0 : slabdata      2      2      0\n",
            "jbd2_journal_head    680    816    120   34    1 : tunables    0    0    0 : slabdata     24     24      0\n",
            "jbd2_revoke_table_s    512    512     16  256    1 : tunables    0    0    0 : slabdata      2      2      0\n",
            "ext4_fc_dentry_update      0      0     80   51    1 : tunables    0    0    0 : slabdata      0      0      0\n",
            "ext4_inode_cache   16445  17424   1488   22    8 : tunables    0    0    0 : slabdata    792    792      0\n",
            "ext4_allocation_context     64     64    128   32    1 : tunables    0    0    0 : slabdata      2      2      0\n",
            "ext4_prealloc_space     68     68    120   34    1 : tunables    0    0    0 : slabdata      2      2      0\n",
            "ext4_io_end_vec      256    256     32  128    1 : tunables    0    0    0 : slabdata      2      2      0\n",
            "ext4_io_end          128    128     64   64    1 : tunables    0    0    0 : slabdata      2      2      0\n",
            "ext4_pending_reservation    640   1152     32  128    1 : tunables    0    0    0 : slabdata      9      9      0\n",
            "ext4_extent_status  13872  13872     40  102    1 : tunables    0    0    0 : slabdata    136    136      0\n",
            "mbcache              584    584     56   73    1 : tunables    0    0    0 : slabdata      8      8      0\n",
            "fsnotify_mark          0      0     88   46    1 : tunables    0    0    0 : slabdata      0      0      0\n",
            "dnotify_struct         0      0     32  128    1 : tunables    0    0    0 : slabdata      0      0      0\n",
            "dio                  253    253    704   23    4 : tunables    0    0    0 : slabdata     11     11      0\n",
            "pid_namespace         34     34    240   17    1 : tunables    0    0    0 : slabdata      2      2      0\n",
            "posix_timers_cache     30     30    272   15    1 : tunables    0    0    0 : slabdata      2      2      0\n",
            "UNIX                 840    840   1344   12    4 : tunables    0    0    0 : slabdata     70     70      0\n",
            "ip4-frags              0      0    224   18    1 : tunables    0    0    0 : slabdata      0      0      0\n",
            "PING                   0      0   1152   14    4 : tunables    0    0    0 : slabdata      0      0      0\n",
            "RAW                   70     70   1152   14    4 : tunables    0    0    0 : slabdata      5      5      0\n",
            "UDP                  240    240   1280   12    4 : tunables    0    0    0 : slabdata     20     20      0\n",
            "tw_sock_TCP           96     96    248   16    1 : tunables    0    0    0 : slabdata      6      6      0\n",
            "request_sock_TCP      26     26    304   13    1 : tunables    0    0    0 : slabdata      2      2      0\n",
            "TCP                  260    260   2432   13    8 : tunables    0    0    0 : slabdata     20     20      0\n",
            "hugetlbfs_inode_cache     21     21    752   21    4 : tunables    0    0    0 : slabdata      1      1      0\n",
            "dquot                 64     64    256   16    1 : tunables    0    0    0 : slabdata      4      4      0\n",
            "eventpoll_pwq       2072   2072     72   56    1 : tunables    0    0    0 : slabdata     37     37      0\n",
            "inotify_inode_mark    504    504     96   42    1 : tunables    0    0    0 : slabdata     12     12      0\n",
            "dax_cache             18     18    896   18    4 : tunables    0    0    0 : slabdata      1      1      0\n",
            "request_queue         53    104   2384   13    8 : tunables    0    0    0 : slabdata      8      8      0\n",
            "blkdev_ioc           112    112    144   28    1 : tunables    0    0    0 : slabdata      4      4      0\n",
            "biovec-max           106    128   4096    8    8 : tunables    0    0    0 : slabdata     16     16      0\n",
            "biovec-128            32     32   2048   16    8 : tunables    0    0    0 : slabdata      2      2      0\n",
            "biovec-64             32     32   1024   16    4 : tunables    0    0    0 : slabdata      2      2      0\n",
            "khugepaged_mm_slot      0      0    112   36    1 : tunables    0    0    0 : slabdata      0      0      0\n",
            "user_namespace         0      0    552   14    2 : tunables    0    0    0 : slabdata      0      0      0\n",
            "uid_cache            252    483    192   21    1 : tunables    0    0    0 : slabdata     23     23      0\n",
            "sock_inode_cache    1156   1156    960   17    4 : tunables    0    0    0 : slabdata     68     68      0\n",
            "skbuff_ext_cache     192    192    128   32    1 : tunables    0    0    0 : slabdata      6      6      0\n",
            "skbuff_fclone_cache     32     32    512   16    2 : tunables    0    0    0 : slabdata      2      2      0\n",
            "skbuff_head_cache   1312   1376    256   16    1 : tunables    0    0    0 : slabdata     86     86      0\n",
            "file_lock_cache       34     34    232   17    1 : tunables    0    0    0 : slabdata      2      2      0\n",
            "net_namespace         14     14   4544    7    8 : tunables    0    0    0 : slabdata      2      2      0\n",
            "task_delay_info     1911   1911    104   39    1 : tunables    0    0    0 : slabdata     49     49      0\n",
            "taskstats             46     46    344   23    2 : tunables    0    0    0 : slabdata      2      2      0\n",
            "proc_dir_entry       784    784    256   16    1 : tunables    0    0    0 : slabdata     49     49      0\n",
            "pde_opener          2652   2652     40  102    1 : tunables    0    0    0 : slabdata     26     26      0\n",
            "proc_inode_cache    5302   5500    784   20    4 : tunables    0    0    0 : slabdata    275    275      0\n",
            "seq_file            1716   1716    152   26    1 : tunables    0    0    0 : slabdata     66     66      0\n",
            "bdev_cache            64     64   1024   16    4 : tunables    0    0    0 : slabdata      4      4      0\n",
            "shmem_inode_cache   1870   2124    880   18    4 : tunables    0    0    0 : slabdata    118    118      0\n",
            "kernfs_iattrs_cache    294    294     96   42    1 : tunables    0    0    0 : slabdata      7      7      0\n",
            "kernfs_node_cache  17880  17880    136   30    1 : tunables    0    0    0 : slabdata    596    596      0\n",
            "mnt_cache            527    672    320   12    1 : tunables    0    0    0 : slabdata     56     56      0\n",
            "filp                4880   5208    320   12    1 : tunables    0    0    0 : slabdata    434    434      0\n",
            "inode_cache        15419  15594    712   23    4 : tunables    0    0    0 : slabdata    678    678      0\n",
            "dentry             70387  85752    216   18    1 : tunables    0    0    0 : slabdata   4764   4764      0\n",
            "names_cache           24     24   4096    8    8 : tunables    0    0    0 : slabdata      3      3      0\n",
            "iint_cache             0      0    144   28    1 : tunables    0    0    0 : slabdata      0      0      0\n",
            "lsm_file_cache      2142   2142     40  102    1 : tunables    0    0    0 : slabdata     21     21      0\n",
            "buffer_head        38688  39741    104   39    1 : tunables    0    0    0 : slabdata   1019   1019      0\n",
            "uts_namespace         36     36    440   18    2 : tunables    0    0    0 : slabdata      2      2      0\n",
            "mm_struct            598    598   1216   13    4 : tunables    0    0    0 : slabdata     46     46      0\n",
            "files_cache          851    851    704   23    4 : tunables    0    0    0 : slabdata     37     37      0\n",
            "signal_cache         611    611   1216   13    4 : tunables    0    0    0 : slabdata     47     47      0\n",
            "sighand_cache        645    645   2176   15    8 : tunables    0    0    0 : slabdata     43     43      0\n",
            "task_struct          715    760   3840    8    8 : tunables    0    0    0 : slabdata     95     95      0\n",
            "cred_jar           10317  11151    192   21    1 : tunables    0    0    0 : slabdata    531    531      0\n",
            "anon_vma_chain     17986  18112     64   64    1 : tunables    0    0    0 : slabdata    283    283      0\n",
            "anon_vma            8693   9432    112   36    1 : tunables    0    0    0 : slabdata    262    262      0\n",
            "pid                 2496   2496    128   32    1 : tunables    0    0    0 : slabdata     78     78      0\n",
            "Acpi-Operand        1176   1176     72   56    1 : tunables    0    0    0 : slabdata     21     21      0\n",
            "Acpi-Parse           219    219     56   73    1 : tunables    0    0    0 : slabdata      3      3      0\n",
            "Acpi-State           204    204     80   51    1 : tunables    0    0    0 : slabdata      4      4      0\n",
            "trace_event_file    1840   1840     88   46    1 : tunables    0    0    0 : slabdata     40     40      0\n",
            "ftrace_event_field   4505   4505     48   85    1 : tunables    0    0    0 : slabdata     53     53      0\n",
            "pool_workqueue       192    192    256   16    1 : tunables    0    0    0 : slabdata     12     12      0\n",
            "radix_tree_node    14251  14588    584   14    2 : tunables    0    0    0 : slabdata   1042   1042      0\n",
            "task_group           126    126    768   21    4 : tunables    0    0    0 : slabdata      6      6      0\n",
            "vmap_area           5184   5184     64   64    1 : tunables    0    0    0 : slabdata     81     81      0\n",
            "page->ptl           4760   4760     24  170    1 : tunables    0    0    0 : slabdata     28     28      0\n",
            "dma-kmalloc-8k         0      0   8192    4    8 : tunables    0    0    0 : slabdata      0      0      0\n",
            "dma-kmalloc-4k         0      0   4096    8    8 : tunables    0    0    0 : slabdata      0      0      0\n",
            "dma-kmalloc-2k         0      0   2048   16    8 : tunables    0    0    0 : slabdata      0      0      0\n",
            "dma-kmalloc-1k         0      0   1024   16    4 : tunables    0    0    0 : slabdata      0      0      0\n",
            "dma-kmalloc-512        0      0    512   16    2 : tunables    0    0    0 : slabdata      0      0      0\n",
            "dma-kmalloc-256        0      0    256   16    1 : tunables    0    0    0 : slabdata      0      0      0\n",
            "dma-kmalloc-128        0      0    128   32    1 : tunables    0    0    0 : slabdata      0      0      0\n",
            "dma-kmalloc-64         0      0     64   64    1 : tunables    0    0    0 : slabdata      0      0      0\n",
            "dma-kmalloc-32         0      0     32  128    1 : tunables    0    0    0 : slabdata      0      0      0\n",
            "dma-kmalloc-16         0      0     16  256    1 : tunables    0    0    0 : slabdata      0      0      0\n",
            "dma-kmalloc-8          0      0      8  512    1 : tunables    0    0    0 : slabdata      0      0      0\n",
            "dma-kmalloc-192        0      0    192   21    1 : tunables    0    0    0 : slabdata      0      0      0\n",
            "dma-kmalloc-96         0      0     96   42    1 : tunables    0    0    0 : slabdata      0      0      0\n",
            "kmalloc-rcl-8k         0      0   8192    4    8 : tunables    0    0    0 : slabdata      0      0      0\n",
            "kmalloc-rcl-4k         0      0   4096    8    8 : tunables    0    0    0 : slabdata      0      0      0\n",
            "kmalloc-rcl-2k         0      0   2048   16    8 : tunables    0    0    0 : slabdata      0      0      0\n",
            "kmalloc-rcl-1k         0      0   1024   16    4 : tunables    0    0    0 : slabdata      0      0      0\n",
            "kmalloc-rcl-512        0      0    512   16    2 : tunables    0    0    0 : slabdata      0      0      0\n",
            "kmalloc-rcl-256        0      0    256   16    1 : tunables    0    0    0 : slabdata      0      0      0\n",
            "kmalloc-rcl-192      273    273    192   21    1 : tunables    0    0    0 : slabdata     13     13      0\n",
            "kmalloc-rcl-128     1184   1184    128   32    1 : tunables    0    0    0 : slabdata     37     37      0\n",
            "kmalloc-rcl-96      1811   1974     96   42    1 : tunables    0    0    0 : slabdata     47     47      0\n",
            "kmalloc-rcl-64      6737   8640     64   64    1 : tunables    0    0    0 : slabdata    135    135      0\n",
            "kmalloc-rcl-32         0      0     32  128    1 : tunables    0    0    0 : slabdata      0      0      0\n",
            "kmalloc-rcl-16         0      0     16  256    1 : tunables    0    0    0 : slabdata      0      0      0\n",
            "kmalloc-rcl-8          0      0      8  512    1 : tunables    0    0    0 : slabdata      0      0      0\n",
            "kmalloc-8k            37     40   8192    4    8 : tunables    0    0    0 : slabdata     10     10      0\n",
            "kmalloc-4k           817    864   4096    8    8 : tunables    0    0    0 : slabdata    108    108      0\n",
            "kmalloc-2k          1123   1200   2048   16    8 : tunables    0    0    0 : slabdata     75     75      0\n",
            "kmalloc-1k          2342   2576   1024   16    4 : tunables    0    0    0 : slabdata    161    161      0\n",
            "kmalloc-512         1851   1984    512   16    2 : tunables    0    0    0 : slabdata    124    124      0\n",
            "kmalloc-256         1168   1168    256   16    1 : tunables    0    0    0 : slabdata     73     73      0\n",
            "kmalloc-192         1470   1470    192   21    1 : tunables    0    0    0 : slabdata     70     70      0\n",
            "kmalloc-128         1087   1408    128   32    1 : tunables    0    0    0 : slabdata     44     44      0\n",
            "kmalloc-96          3444   3444     96   42    1 : tunables    0    0    0 : slabdata     82     82      0\n",
            "kmalloc-64         19790  29056     64   64    1 : tunables    0    0    0 : slabdata    454    454      0\n",
            "kmalloc-32         26523  31104     32  128    1 : tunables    0    0    0 : slabdata    243    243      0\n",
            "kmalloc-16          5632   5632     16  256    1 : tunables    0    0    0 : slabdata     22     22      0\n",
            "kmalloc-8          38402  39424      8  512    1 : tunables    0    0    0 : slabdata     77     77      0\n",
            "kmem_cache_node     1696   1696    128   32    1 : tunables    0    0    0 : slabdata     53     53      0\n",
            "kmem_cache          1537   1656    448   18    2 : tunables    0    0    0 : slabdata     92     92      0\n"
          ]
        }
      ],
      "source": [
        "!cat /proc/slabinfo\n"
      ]
    },
    {
      "cell_type": "code",
      "execution_count": null,
      "metadata": {
        "colab": {
          "base_uri": "https://localhost:8080/"
        },
        "id": "rLBac8pRkr_9",
        "outputId": "db3c98a0-456a-4305-8e3b-9c7dfbe6c436"
      },
      "outputs": [
        {
          "name": "stdout",
          "output_type": "stream",
          "text": [
            "['1560', '36', '810', '0', '0', '60', '264', '32', '0', '48', '1140', '0', '8480', '30', '0', '0', '0', '0', '0', '0', '0', '0', '0', '0', '12917', '170', '680', '512', '0', '16445', '64', '68', '256', '128', '640', '13872', '584', '0', '0', '253', '34', '30', '840', '0', '0', '70', '240', '96', '26', '247', '21', '64', '2072', '504', '18', '53', '112', '110', '32', '32', '0', '0', '252', '1139', '192', '32', '1312', '34', '14', '1911', '46', '784', '2652', '5242', '1716', '64', '1870', '294', '17880', '527', '4920', '15419', '70171', '24', '0', '2142', '38259', '36', '598', '851', '611', '645', '715', '10848', '17408', '9216', '2496', '1176', '219', '204', '1840', '4505', '192', '14237', '126', '3840', '4760', '0', '0', '0', '0', '0', '0', '0', '0', '0', '0', '0', '0', '0', '0', '0', '0', '0', '0', '0', '273', '1184', '1811', '6737', '0', '0', '0', '37', '817', '1123', '2342', '1851', '1168', '1470', '2432', '3444', '19790', '26523', '5632', '38402', '1696', '1537']\n",
            "['168', '640', '160', '168', '208', '1344', '1472', '248', '304', '2560', '320', '3528', '128', '1088', '800', '528', '448', '216', '696', '176', '1216', '440', '480', '184', '816', '48', '120', '16', '80', '1488', '128', '120', '32', '64', '32', '40', '56', '88', '32', '704', '240', '272', '1344', '224', '1152', '1152', '1280', '248', '304', '2432', '752', '256', '72', '96', '896', '2384', '144', '4096', '2048', '1024', '112', '552', '192', '960', '128', '512', '256', '232', '4544', '104', '344', '256', '40', '784', '152', '1024', '880', '96', '136', '320', '320', '712', '216', '4096', '144', '40', '104', '440', '1216', '704', '1216', '2176', '3840', '192', '64', '112', '128', '72', '56', '80', '88', '48', '256', '584', '768', '64', '24', '8192', '4096', '2048', '1024', '512', '256', '128', '64', '32', '16', '8', '192', '96', '8192', '4096', '2048', '1024', '512', '256', '192', '128', '96', '64', '32', '16', '8', '8192', '4096', '2048', '1024', '512', '256', '192', '128', '96', '64', '32', '16', '8', '128', '448']\n"
          ]
        }
      ],
      "source": [
        "import re\n",
        "\n",
        "f=open('/proc/slabinfo','rt')\n",
        "\n",
        "active_objs = []\n",
        "num_objs = []\n",
        "objsize = []\n",
        "objperslab = []\n",
        "pagesperslab = []\n",
        "\n",
        "lines = f.readlines()\n",
        "for l in lines:\n",
        "  m = re.search(\"[\\w>-]+\\s+(\\d+)\\s+(\\d+)\\s+(\\d+)\\s+(\\d+)\\s+(\\d+)\\s+:.*\", l)\n",
        "  if m:\n",
        "     active_objs.append(m[1])\n",
        "     num_objs.append(m[2])\n",
        "     objsize.append(m[3])\n",
        "     objperslab.append(m[4])\n",
        "     pagesperslab.append(m[5])\n",
        "f.close()\n",
        "\n",
        "print(active_objs)\n",
        "print(objsize)"
      ]
    },
    {
      "cell_type": "code",
      "source": [
        "from IPython.display import clear_output\n",
        "\n",
        "print(\"Hello World\")\n",
        "clear_output()"
      ],
      "metadata": {
        "id": "ITyVO2HctwxS"
      },
      "execution_count": null,
      "outputs": []
    },
    {
      "cell_type": "markdown",
      "source": [
        "Eight Queens Problem"
      ],
      "metadata": {
        "id": "3bTtwFfBibV2"
      }
    },
    {
      "cell_type": "code",
      "source": [
        "from IPython.display import clear_output\n",
        "import time\n",
        "\n",
        "def isSafe(row, col, board):\n",
        "  for i in range(len(board)):\n",
        "    for j in range(len(board)):\n",
        "      if board[i][j] == 1 and col == j:\n",
        "        return False\n",
        "      elif board[i][j] == 1 and (i+j) == row+col:\n",
        "        return False\n",
        "      elif board[i][j] == 1 and (i-j) == row-col:\n",
        "        return False\n",
        "  return True\n",
        "\n",
        "\n",
        "def initBoard(n):\n",
        "  board = [[0 for i in range(n)] for i in range(n)]\n",
        "  return board\n",
        "\n",
        "def printBoard(board):\n",
        "  clear_output()\n",
        "  print('=============')\n",
        "  for i in range(len(board)):\n",
        "    rowStr = ''.join(['\\' ' if board[i][j] == 0 else '* ' for j in range(len(board))])\n",
        "    print(rowStr)\n",
        "\n",
        "N = int(input('Chess board dimension:'))\n",
        "\n",
        "board = initBoard(N)\n",
        "\n",
        "row = 0\n",
        "col = 0\n",
        "\n",
        "while row < N:\n",
        "  if col != 0: # no safe column was found in the current row search\n",
        "    if row == 0:\n",
        "      break\n",
        "    #backtrack\n",
        "    board[row] = [0 for i in range(N)]\n",
        "    row -= 1\n",
        "    col = 0\n",
        "    for i in range(N):\n",
        "      if board[row][i] == 1:\n",
        "        col = i\n",
        "\n",
        "    board[row][col] = 0\n",
        "    col += 1\n",
        "  while col < N:\n",
        "    if isSafe(row, col, board):\n",
        "      board[row][col] = 1\n",
        "      printBoard(board)\n",
        "      if row == N-1: # solution found, continue for next solution\n",
        "        printBoard(board)\n",
        "        time.sleep(2)\n",
        "        board[row][col] = 0\n",
        "        col += 1\n",
        "      else: # start next row\n",
        "        col = 0\n",
        "        row += 1\n",
        "        break\n",
        "    else :\n",
        "      col += 1\n"
      ],
      "metadata": {
        "id": "h36aC2mOifHd"
      },
      "execution_count": null,
      "outputs": []
    }
  ],
  "metadata": {
    "colab": {
      "provenance": [],
      "include_colab_link": true
    },
    "kernelspec": {
      "display_name": "Python 3",
      "name": "python3"
    },
    "language_info": {
      "name": "python"
    }
  },
  "nbformat": 4,
  "nbformat_minor": 0
}