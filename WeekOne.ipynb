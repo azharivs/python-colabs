{
  "nbformat": 4,
  "nbformat_minor": 0,
  "metadata": {
    "colab": {
      "provenance": [],
      "include_colab_link": true
    },
    "kernelspec": {
      "name": "python3",
      "display_name": "Python 3"
    },
    "language_info": {
      "name": "python"
    }
  },
  "cells": [
    {
      "cell_type": "markdown",
      "metadata": {
        "id": "view-in-github",
        "colab_type": "text"
      },
      "source": [
        "<a href=\"https://colab.research.google.com/github/azharivs/python-colabs/blob/main/WeekOne.ipynb\" target=\"_parent\"><img src=\"https://colab.research.google.com/assets/colab-badge.svg\" alt=\"Open In Colab\"/></a>"
      ]
    },
    {
      "cell_type": "markdown",
      "source": [
        "# The Basics of Computers مبانی کامپیوتر\n",
        "---\n",
        "\n",
        "You are looking at a \"Virtual Machine\" (VM). This is almost identical to a real physical computer. A computer is made of:\n",
        "*   Memory (RAM) for storing programs and data while they are being run (executed)\n",
        "*   A Central Processing Unit (CPU) that runs (executes) those programs\n",
        "*   A disk that permanently stores data files and executable programs even when they are not being run.\n",
        "*   Input/Output (I/O) devices which connect it to the outside world: Keyboard, Monitor, Printer, Network Card, USB ports, Wifi Adapters, Mouse, etc.\n",
        "\n",
        "Programs can do many things:\n",
        "*   Get picture data from file or camera input and process it to detect objects\n",
        "*   Get a building structural plan as input file and process it to produce loading map of the building\n",
        "*   Receive packets from the wifi adapter and display them in a browser (Chrome/Internet Explorer, etc.)\n",
        "*   Many other examples ...\n",
        "\n"
      ],
      "metadata": {
        "id": "r5jJWyrRJ-ri"
      }
    },
    {
      "cell_type": "markdown",
      "source": [
        "## Main Concepts\n",
        "\n",
        "### CPU: Central Processing Unit that executes programs stored in the memory.\n",
        "* CPUs do computation: add, subtract, multiplication, shift left/right, on floating point (Real) and integer numbers\n",
        "* CPUs move data: load/store data from/to memory to/from internal registers and back.  Move data between registers. Registers are very fast small memory inside the CPU used to perform computations.\n",
        "* CPUs read and write to I/O devices.\n",
        "* CPUs receive signals from I/O devices when the devices have to tell them something. These signals are called interrupts.\n",
        "* Modern CPUs have many independent CPUs inside of them called, cores. CPUs execute many programs at the same time on multiple cores.\n",
        "*   Intel Hyperthreading: There is a technology that allows each core to execute two programs at the same time.\n",
        "*   High performance computing systems may have several CPU sockects.\n",
        "*   Four Quad core CPU sockets each with Hyperthreading gives you 4x4x2 = 32 CPU cores!\n",
        "*   CPUs have very fast registers for storing internal computations\n",
        "*   CPUs have fast cache memory for keeping frequently used data handy\n",
        "\n",
        "\n"
      ],
      "metadata": {
        "id": "5C2vJNJ0Nqwf"
      }
    },
    {
      "cell_type": "code",
      "source": [
        "!lscpu"
      ],
      "metadata": {
        "id": "v_gutSIVPqoc",
        "colab": {
          "base_uri": "https://localhost:8080/"
        },
        "outputId": "c7497cf6-086c-4607-8b71-6a755837a23f"
      },
      "execution_count": null,
      "outputs": [
        {
          "output_type": "stream",
          "name": "stdout",
          "text": [
            "Architecture:        x86_64\n",
            "CPU op-mode(s):      32-bit, 64-bit\n",
            "Byte Order:          Little Endian\n",
            "CPU(s):              2\n",
            "On-line CPU(s) list: 0,1\n",
            "Thread(s) per core:  2\n",
            "Core(s) per socket:  1\n",
            "Socket(s):           1\n",
            "NUMA node(s):        1\n",
            "Vendor ID:           GenuineIntel\n",
            "CPU family:          6\n",
            "Model:               79\n",
            "Model name:          Intel(R) Xeon(R) CPU @ 2.20GHz\n",
            "Stepping:            0\n",
            "CPU MHz:             2200.156\n",
            "BogoMIPS:            4400.31\n",
            "Hypervisor vendor:   KVM\n",
            "Virtualization type: full\n",
            "L1d cache:           32K\n",
            "L1i cache:           32K\n",
            "L2 cache:            256K\n",
            "L3 cache:            56320K\n",
            "NUMA node0 CPU(s):   0,1\n",
            "Flags:               fpu vme de pse tsc msr pae mce cx8 apic sep mtrr pge mca cmov pat pse36 clflush mmx fxsr sse sse2 ss ht syscall nx pdpe1gb rdtscp lm constant_tsc rep_good nopl xtopology nonstop_tsc cpuid tsc_known_freq pni pclmulqdq ssse3 fma cx16 pcid sse4_1 sse4_2 x2apic movbe popcnt aes xsave avx f16c rdrand hypervisor lahf_lm abm 3dnowprefetch invpcid_single ssbd ibrs ibpb stibp fsgsbase tsc_adjust bmi1 hle avx2 smep bmi2 erms invpcid rtm rdseed adx smap xsaveopt arat md_clear arch_capabilities\n"
          ]
        }
      ]
    },
    {
      "cell_type": "markdown",
      "source": [
        "### Memory (RAM)\n",
        "\n",
        "Fast storage for keeping programs and data while they are being executed.\n",
        "\n",
        "Memory size is expressed in Bytes,\n",
        "> KB = 1000 Bytes,\n",
        "\n",
        "> MB = 1,000,000 Bytes,\n",
        "\n",
        "> GB = 1,000,000,000 Bytes.\n",
        "\n",
        "Sometimes we use\n",
        "> KiB = 1024 Bytes,\n",
        "\n",
        "> MiB = 1024 KiB = 1024*1024 Bytes = 1,048,576 Bytes\n",
        "\n",
        "> GiB = 1024 MiB = 1024*1024*1024 Bytes = 1,073,741,824 Bytes\n",
        "\n",
        "RAM memory is usually \"volatile\": it will be lost when power is gone (reset)\n",
        "\n",
        "Data is stored in memory at a given \"address\", and can be randomly accessed at any time:\n",
        "> memory[1000] = 56: The data stored at address 1000 is 56!\n",
        "\n",
        "A 1MB memory needs to address one million bytes! So the address range will be\n",
        "> 0 .. 999,999\n",
        "\n",
        "A 1GiB memory needs to address 1,073,741,824 bytes\n",
        "> 0 .. 1,073,741,823\n",
        "\n",
        "One byte is eight bits and each bit is 0 or 1. This is a number in base-2, \"Binary\" representation.\n",
        "> Example:\\\n",
        "  01011011 = \\\n",
        "           1\\*2^0+1\\*2^1+0\\*2^2+1\\*2^3+1\\*2^4+0\\*2^5+1\\*2^6+0\\*2^7 = \\\n",
        "           1     +2     +0     +8     +16    +0     +64    +0      = \\\n",
        "           91\n",
        "\n",
        "One byte will provide for numbers between 0 .. 255 = 2^8 -1"
      ],
      "metadata": {
        "id": "EelAXQ3ZQWhP"
      }
    },
    {
      "cell_type": "markdown",
      "source": [
        "### Question: How many bits are required to address a 4 GiB memory?"
      ],
      "metadata": {
        "id": "0r-EMG0txHyA"
      }
    },
    {
      "cell_type": "code",
      "source": [
        "!cat /proc/meminfo"
      ],
      "metadata": {
        "id": "rErIVgesREI0"
      },
      "execution_count": null,
      "outputs": []
    },
    {
      "cell_type": "markdown",
      "source": [
        "## Disk Storage\n",
        "\n",
        "Permanent storage space for files and programs. Does not lose data if power is cut off (restart). Disk capacity ~100x RAM memory size but also ~100x slower than RAM memory.\n",
        "\n",
        "Disk capacity is usually in the range of 250GB to 2000GB(=2TB).\n",
        "\n",
        "> Hard Disks (HDD): Magnetic technology using a mechanical head to read/write. Old, Heavy and slow.\n",
        "\n",
        "> Solid State Disks (SSD): Non mechanical, chips storing informtion on transistors. Newer, Lighter, and faster.\n",
        "\n",
        "### Disk Organization\n",
        "* Information stored in sectors (usually 512 bytes)\n",
        "* Sequentially addressed: Have to seek for sector first --> Cannot immediately access any address unlike RAM memory\n",
        "* Boot record/sector: System startup code and data stored here\n",
        "* File system including folders and files (FAT, NTFS, ext3, etc.)\n",
        "\n"
      ],
      "metadata": {
        "id": "6n2h-HU9xXdp"
      }
    },
    {
      "cell_type": "code",
      "source": [
        "!du /* -sh"
      ],
      "metadata": {
        "id": "kb04nZMjxb9U"
      },
      "execution_count": null,
      "outputs": []
    },
    {
      "cell_type": "markdown",
      "source": [
        "# File\n",
        "A collection of bytes stored on disk containing data or code (program). A file can be inside a folder."
      ],
      "metadata": {
        "id": "Ii7z9m1X2Nh2"
      }
    },
    {
      "cell_type": "code",
      "source": [
        "!ls -l /usr/src"
      ],
      "metadata": {
        "id": "3GzbmKHw2hlg"
      },
      "execution_count": null,
      "outputs": []
    },
    {
      "cell_type": "markdown",
      "source": [
        "# Program\n",
        "A code that can be executed.\n",
        "\n",
        "Stored as one or many executable files on the disk.\n",
        "\n",
        "Is loaded into RAM memory when it is run and then executed by the CPU from inside the memory.\n",
        "\n",
        "Programs have many different segments (parts) that are mapped into the memory space:\n",
        "\n",
        "Code\n",
        "\n",
        "Data\n",
        "\n",
        "Stack\n",
        "\n",
        "What is a Process\n",
        "\n",
        "What is a Thread\n",
        "\n",
        "What is a 32bit vs 64bit program?\n",
        "\n",
        "What is machine code? Assembly? Source Code?\n",
        "\n"
      ],
      "metadata": {
        "id": "syAblHie2_JM"
      }
    },
    {
      "cell_type": "code",
      "source": [
        "!ps -ef"
      ],
      "metadata": {
        "id": "3O5dSHrL4SQM"
      },
      "execution_count": null,
      "outputs": []
    },
    {
      "cell_type": "code",
      "source": [
        "!ps -eT"
      ],
      "metadata": {
        "id": "aUft5htL4fOl"
      },
      "execution_count": null,
      "outputs": []
    },
    {
      "cell_type": "code",
      "source": [
        "!size /usr/bin/lsmem"
      ],
      "metadata": {
        "id": "9gs4sUyB4j3O"
      },
      "execution_count": null,
      "outputs": []
    },
    {
      "cell_type": "code",
      "source": [
        "!cat /proc/37/maps"
      ],
      "metadata": {
        "id": "Yp9_cGaN4tl3"
      },
      "execution_count": null,
      "outputs": []
    },
    {
      "cell_type": "code",
      "source": [
        "!readelf -h /usr/bin/lsmem"
      ],
      "metadata": {
        "id": "V3KCaXtJ5dyu"
      },
      "execution_count": null,
      "outputs": []
    },
    {
      "cell_type": "code",
      "execution_count": null,
      "metadata": {
        "id": "A_SIGr68Ie1c"
      },
      "outputs": [],
      "source": [
        "!objdump -xD /usr/bin/lsmem\n"
      ]
    },
    {
      "cell_type": "markdown",
      "source": [
        "# Operating System"
      ],
      "metadata": {
        "id": "2rOdrb_r55Tl"
      }
    },
    {
      "cell_type": "code",
      "source": [
        "!uname -a"
      ],
      "metadata": {
        "id": "4G_dD9Xt57vm"
      },
      "execution_count": null,
      "outputs": []
    },
    {
      "cell_type": "markdown",
      "source": [
        "# What is Python?\n",
        "Is an \"interpreter\" that translates Python commands to machine code that is then run on the CPU.\n",
        "\n",
        "Python commands follow the Python \"Syntax\"\n",
        "> print(\"Hello World!\")\n",
        "\n",
        "The interpreter translates this to possibly 1000s of lines of machine code that will eventually print the text \"Hello World!\" on the screen.\n",
        "\n",
        "You don't have to write the machine code. Python interpreter does the translation for you, on the fly. --> A bit slow but still good!\n",
        "\n",
        "You write a file containing \"source code\" in Python \"syntax\" and the \"interpreter\" generates the \"machine code\" which will be copied to \"RAM\" and executed by the \"Python process\" on your \"CPU\"!\n",
        "\n",
        "We are going to learn this amazing and powerful language in this course!"
      ],
      "metadata": {
        "id": "psP3m4Kx8JSy"
      }
    },
    {
      "cell_type": "code",
      "source": [
        "print(\"Hello World!\")\n",
        "print(\"2+5 is\", 2+5)\n",
        "print(\"I know Py Fu!\")"
      ],
      "metadata": {
        "id": "P67hQXdd99GG"
      },
      "execution_count": null,
      "outputs": []
    }
  ]
}